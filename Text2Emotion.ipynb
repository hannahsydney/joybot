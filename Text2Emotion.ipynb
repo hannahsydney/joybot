{
  "nbformat": 4,
  "nbformat_minor": 0,
  "metadata": {
    "colab": {
      "provenance": [],
      "include_colab_link": true
    },
    "kernelspec": {
      "name": "python3",
      "display_name": "Python 3"
    },
    "accelerator": "GPU",
    "gpuClass": "standard"
  },
  "cells": [
    {
      "cell_type": "markdown",
      "metadata": {
        "id": "view-in-github",
        "colab_type": "text"
      },
      "source": [
        "<a href=\"https://colab.research.google.com/github/hannahsydney/joybot/blob/text2emotion/Text2Emotion.ipynb\" target=\"_parent\"><img src=\"https://colab.research.google.com/assets/colab-badge.svg\" alt=\"Open In Colab\"/></a>"
      ]
    },
    {
      "cell_type": "markdown",
      "metadata": {
        "id": "ivUkOaBPEQYr"
      },
      "source": [
        "# **What is Text2Emotion?**\n",
        "Text2Emotion is the python package which will help you to extract the emotions from the content.\n",
        "\n",
        "*   Processes any textual message and recognizes the emotion embedded in it.\n",
        "*   Compatible with 5 different emotion categories as Happy, Angry, Sad, Surprise and Fear.\n",
        "\n"
      ]
    },
    {
      "cell_type": "markdown",
      "metadata": {
        "id": "949Mr0BLF7xW"
      },
      "source": [
        "Here we will discuss about the working of package and how you can use it."
      ]
    },
    {
      "cell_type": "markdown",
      "metadata": {
        "id": "7qvXHaLbG7al"
      },
      "source": [
        "## 1. Install the package"
      ]
    },
    {
      "cell_type": "code",
      "metadata": {
        "id": "nxET8yW3HIvL",
        "outputId": "8dbcfbe9-11ee-4f64-f6cd-ef0dcddeb23f",
        "colab": {
          "base_uri": "https://localhost:8080/"
        }
      },
      "source": [
        "pip install text2emotion"
      ],
      "execution_count": null,
      "outputs": [
        {
          "output_type": "stream",
          "name": "stdout",
          "text": [
            "Looking in indexes: https://pypi.org/simple, https://us-python.pkg.dev/colab-wheels/public/simple/\n",
            "Collecting text2emotion\n",
            "  Downloading text2emotion-0.0.5-py3-none-any.whl (57 kB)\n",
            "\u001b[K     |████████████████████████████████| 57 kB 4.1 MB/s \n",
            "\u001b[?25hCollecting emoji>=0.6.0\n",
            "  Downloading emoji-2.1.0.tar.gz (216 kB)\n",
            "\u001b[K     |████████████████████████████████| 216 kB 28.3 MB/s \n",
            "\u001b[?25hRequirement already satisfied: nltk in /usr/local/lib/python3.7/dist-packages (from text2emotion) (3.7)\n",
            "Requirement already satisfied: click in /usr/local/lib/python3.7/dist-packages (from nltk->text2emotion) (7.1.2)\n",
            "Requirement already satisfied: tqdm in /usr/local/lib/python3.7/dist-packages (from nltk->text2emotion) (4.64.1)\n",
            "Requirement already satisfied: regex>=2021.8.3 in /usr/local/lib/python3.7/dist-packages (from nltk->text2emotion) (2022.6.2)\n",
            "Requirement already satisfied: joblib in /usr/local/lib/python3.7/dist-packages (from nltk->text2emotion) (1.2.0)\n",
            "Building wheels for collected packages: emoji\n",
            "  Building wheel for emoji (setup.py) ... \u001b[?25l\u001b[?25hdone\n",
            "  Created wheel for emoji: filename=emoji-2.1.0-py3-none-any.whl size=212392 sha256=b632f634926604f25ed878bd83e8b3ab032543c11ace99ba257510018058cac7\n",
            "  Stored in directory: /root/.cache/pip/wheels/77/75/99/51c2a119f4cfd3af7b49cc57e4f737bed7e40b348a85d82804\n",
            "Successfully built emoji\n",
            "Installing collected packages: emoji, text2emotion\n",
            "Successfully installed emoji-2.1.0 text2emotion-0.0.5\n"
          ]
        }
      ]
    },
    {
      "cell_type": "code",
      "source": [
        "pip install emoji==1.7.0"
      ],
      "metadata": {
        "colab": {
          "base_uri": "https://localhost:8080/"
        },
        "id": "S6gBr6K1z_xQ",
        "outputId": "e75e7236-46a5-4cb4-f314-c38a189c56e8"
      },
      "execution_count": null,
      "outputs": [
        {
          "output_type": "stream",
          "name": "stdout",
          "text": [
            "Looking in indexes: https://pypi.org/simple, https://us-python.pkg.dev/colab-wheels/public/simple/\n",
            "Collecting emoji==1.7.0\n",
            "  Downloading emoji-1.7.0.tar.gz (175 kB)\n",
            "\u001b[K     |████████████████████████████████| 175 kB 15.5 MB/s \n",
            "\u001b[?25hBuilding wheels for collected packages: emoji\n",
            "  Building wheel for emoji (setup.py) ... \u001b[?25l\u001b[?25hdone\n",
            "  Created wheel for emoji: filename=emoji-1.7.0-py3-none-any.whl size=171046 sha256=d49a8e952a99b50c2dfe39a0a67c3ae767d5bc1f31a2b412bfc7b0c1b0d91e64\n",
            "  Stored in directory: /root/.cache/pip/wheels/8a/4e/b6/57b01db010d17ef6ea9b40300af725ef3e210cb1acfb7ac8b6\n",
            "Successfully built emoji\n",
            "Installing collected packages: emoji\n",
            "  Attempting uninstall: emoji\n",
            "    Found existing installation: emoji 2.1.0\n",
            "    Uninstalling emoji-2.1.0:\n",
            "      Successfully uninstalled emoji-2.1.0\n",
            "Successfully installed emoji-1.7.0\n"
          ]
        }
      ]
    },
    {
      "cell_type": "code",
      "metadata": {
        "id": "D3QHLMdnbMCX",
        "outputId": "d4dc2a72-dc35-4e69-bb53-59810742051d",
        "colab": {
          "base_uri": "https://localhost:8080/"
        }
      },
      "source": [
        "import text2emotion as te"
      ],
      "execution_count": null,
      "outputs": [
        {
          "output_type": "stream",
          "name": "stderr",
          "text": [
            "[nltk_data] Downloading package stopwords to /root/nltk_data...\n",
            "[nltk_data]   Unzipping corpora/stopwords.zip.\n",
            "[nltk_data] Downloading package punkt to /root/nltk_data...\n",
            "[nltk_data]   Unzipping tokenizers/punkt.zip.\n",
            "[nltk_data] Downloading package wordnet to /root/nltk_data...\n"
          ]
        }
      ]
    },
    {
      "cell_type": "code",
      "source": [
        "import nltk\n",
        "nltk.download('omw-1.4')"
      ],
      "metadata": {
        "colab": {
          "base_uri": "https://localhost:8080/"
        },
        "id": "lrfZLNe04llc",
        "outputId": "cd8b1a39-5098-4164-d172-92f21e7799e1"
      },
      "execution_count": null,
      "outputs": [
        {
          "output_type": "stream",
          "name": "stderr",
          "text": [
            "[nltk_data] Downloading package omw-1.4 to /root/nltk_data...\n"
          ]
        },
        {
          "output_type": "execute_result",
          "data": {
            "text/plain": [
              "True"
            ]
          },
          "metadata": {},
          "execution_count": 5
        }
      ]
    },
    {
      "cell_type": "markdown",
      "metadata": {
        "id": "DgcGUoLpO0aw"
      },
      "source": [
        "## 2. Call get_emotion() function"
      ]
    },
    {
      "cell_type": "markdown",
      "metadata": {
        "id": "cic_vEaoI7Ge"
      },
      "source": [
        "Let's get some content for emotion analysis"
      ]
    },
    {
      "cell_type": "code",
      "metadata": {
        "id": "McuobJsvH2EF"
      },
      "source": [
        "text = \"I was asked to sign a third party contract a week out from stay. If it wasn't an 8 person group that took a lot of wrangling I would have cancelled the booking straight away. Bathrooms - there are no stand alone bathrooms. Please consider this - you have to clear out the main bedroom to use that bathroom. Other option is you walk through a different bedroom to get to its en-suite. Signs all over the apartment - there are signs everywhere - some helpful - some telling you rules. Perhaps some people like this but It negatively affected our enjoyment of the accommodation. Stairs - lots of them - some had slightly bending wood which caused a minor injury.\""
      ],
      "execution_count": null,
      "outputs": []
    },
    {
      "cell_type": "markdown",
      "source": [],
      "metadata": {
        "id": "ZCrnmHrsy3_e"
      }
    },
    {
      "cell_type": "code",
      "metadata": {
        "id": "q9n9nGi1H0WN",
        "outputId": "a9638086-deb7-446b-81bc-56563949562a",
        "colab": {
          "base_uri": "https://localhost:8080/",
          "height": 166
        }
      },
      "source": [
        "te.get_emotion(text)"
      ],
      "execution_count": null,
      "outputs": [
        {
          "output_type": "error",
          "ename": "NameError",
          "evalue": "ignored",
          "traceback": [
            "\u001b[0;31m---------------------------------------------------------------------------\u001b[0m",
            "\u001b[0;31mNameError\u001b[0m                                 Traceback (most recent call last)",
            "\u001b[0;32m<ipython-input-9-4366c3337e88>\u001b[0m in \u001b[0;36m<module>\u001b[0;34m\u001b[0m\n\u001b[0;32m----> 1\u001b[0;31m \u001b[0mte\u001b[0m\u001b[0;34m.\u001b[0m\u001b[0mget_emotion\u001b[0m\u001b[0;34m(\u001b[0m\u001b[0mtext\u001b[0m\u001b[0;34m)\u001b[0m\u001b[0;34m\u001b[0m\u001b[0;34m\u001b[0m\u001b[0m\n\u001b[0m",
            "\u001b[0;31mNameError\u001b[0m: name 'te' is not defined"
          ]
        }
      ]
    },
    {
      "cell_type": "markdown",
      "metadata": {
        "id": "uyjyMGEcI44c"
      },
      "source": [
        "Here, we got the output in terms of dictionary where we have emotion categories along with the respective score."
      ]
    },
    {
      "cell_type": "markdown",
      "metadata": {
        "id": "Y2hpOj6hM8cz"
      },
      "source": [
        "Now, if we think about the scores of the relative emotion categories then **Fear** scoe is 0.45 & **Sad** score is 0.32. So on overall analysis we can say that the statement we took as input has the Fear & Sad tone."
      ]
    },
    {
      "cell_type": "code",
      "metadata": {
        "id": "UR2s0lo3Iuzq"
      },
      "source": [
        "text = \"The times are difficult! Our sales have been disappointing for the past three quarters for our data analytics product suite. We have a competitive data analytics product suite in the industry. However, we are not doing a good job at selling it, and this is really frustrating.\""
      ],
      "execution_count": null,
      "outputs": []
    },
    {
      "cell_type": "code",
      "metadata": {
        "id": "EsVJ1ulWS5SF",
        "outputId": "bcc67e1c-720d-41db-c23d-d91df4049228",
        "colab": {
          "base_uri": "https://localhost:8080/"
        }
      },
      "source": [
        "te.get_emotion(text)"
      ],
      "execution_count": null,
      "outputs": [
        {
          "output_type": "execute_result",
          "data": {
            "text/plain": [
              "{'Happy': 0.0, 'Angry': 0.25, 'Surprise': 0.0, 'Sad': 0.5, 'Fear': 0.25}"
            ]
          },
          "metadata": {},
          "execution_count": 10
        }
      ]
    },
    {
      "cell_type": "markdown",
      "metadata": {
        "id": "IZ4o-w7LO3tG"
      },
      "source": [
        "Let's check for short messages."
      ]
    },
    {
      "cell_type": "code",
      "metadata": {
        "id": "9gJfoXOzPAUs",
        "outputId": "5389be94-fb7f-4ffa-c31b-95a4c03ffe41",
        "colab": {
          "base_uri": "https://localhost:8080/"
        }
      },
      "source": [
        "text = \"Good n8\"\n",
        "te.get_emotion(text)"
      ],
      "execution_count": null,
      "outputs": [
        {
          "output_type": "execute_result",
          "data": {
            "text/plain": [
              "{'Happy': 0, 'Angry': 0, 'Surprise': 0, 'Sad': 0, 'Fear': 0}"
            ]
          },
          "metadata": {},
          "execution_count": 11
        }
      ]
    },
    {
      "cell_type": "code",
      "metadata": {
        "id": "4ILgh6jhPMUK",
        "outputId": "b92ae5e5-1ce4-44d8-a3e0-ef20758b0034",
        "colab": {
          "base_uri": "https://localhost:8080/"
        }
      },
      "source": [
        "text = \"That night was so horrible.\"\n",
        "te.get_emotion(text)"
      ],
      "execution_count": null,
      "outputs": [
        {
          "output_type": "execute_result",
          "data": {
            "text/plain": [
              "{'Happy': 0.0, 'Angry': 0.0, 'Surprise': 0.0, 'Sad': 0.0, 'Fear': 1.0}"
            ]
          },
          "metadata": {},
          "execution_count": 12
        }
      ]
    },
    {
      "cell_type": "code",
      "metadata": {
        "id": "dlzlYbQuPVY2",
        "outputId": "908e8385-3756-4f27-9729-d70717c48d36",
        "colab": {
          "base_uri": "https://localhost:8080/"
        }
      },
      "source": [
        "text = \"I just love this surprise.\"\n",
        "te.get_emotion(text)"
      ],
      "execution_count": null,
      "outputs": [
        {
          "output_type": "execute_result",
          "data": {
            "text/plain": [
              "{'Happy': 0.5, 'Angry': 0.0, 'Surprise': 0.5, 'Sad': 0.0, 'Fear': 0.0}"
            ]
          },
          "metadata": {},
          "execution_count": 13
        }
      ]
    },
    {
      "cell_type": "code",
      "metadata": {
        "id": "CNSSyJTAPePS",
        "outputId": "c733f84c-d068-4274-dc85-436b6328c054",
        "colab": {
          "base_uri": "https://localhost:8080/"
        }
      },
      "source": [
        "text = \"I can't understand what to do now.\"\n",
        "te.get_emotion(text)"
      ],
      "execution_count": null,
      "outputs": [
        {
          "output_type": "execute_result",
          "data": {
            "text/plain": [
              "{'Happy': 0.0, 'Angry': 0.0, 'Surprise': 0.0, 'Sad': 1.0, 'Fear': 0.0}"
            ]
          },
          "metadata": {},
          "execution_count": 14
        }
      ]
    },
    {
      "cell_type": "markdown",
      "metadata": {
        "id": "UCwPZ34BRY0_"
      },
      "source": [
        "Let's check out with some statements which contain emojis.\n"
      ]
    },
    {
      "cell_type": "code",
      "metadata": {
        "id": "dnTtCGl_QVrQ",
        "outputId": "3d8d9be8-b9ce-44bb-ccb0-38d2b2c2d164",
        "colab": {
          "base_uri": "https://localhost:8080/"
        }
      },
      "source": [
        "text = \"you got this man 😆😂\"\n",
        "te.get_emotion(text)"
      ],
      "execution_count": null,
      "outputs": [
        {
          "output_type": "execute_result",
          "data": {
            "text/plain": [
              "{'Happy': 0, 'Angry': 0, 'Surprise': 0, 'Sad': 0, 'Fear': 0}"
            ]
          },
          "metadata": {},
          "execution_count": 15
        }
      ]
    },
    {
      "cell_type": "code",
      "metadata": {
        "id": "K54DBtW3TruC",
        "outputId": "b56b0f50-e678-4100-805e-7ab619459be5",
        "colab": {
          "base_uri": "https://localhost:8080/"
        }
      },
      "source": [
        "text = \"I am extremely interested in software.\"\n",
        "te.get_emotion(text)"
      ],
      "execution_count": null,
      "outputs": [
        {
          "output_type": "execute_result",
          "data": {
            "text/plain": [
              "{'Happy': 1.0, 'Angry': 0.0, 'Surprise': 0.0, 'Sad': 0.0, 'Fear': 0.0}"
            ]
          },
          "metadata": {},
          "execution_count": 16
        }
      ]
    },
    {
      "cell_type": "code",
      "source": [
        "from google.colab import drive\n",
        "drive.mount('/content/drive')"
      ],
      "metadata": {
        "colab": {
          "base_uri": "https://localhost:8080/"
        },
        "id": "kNohVN4ydT3a",
        "outputId": "b9cc3d48-15a8-422b-f95c-2a18566c8ea3"
      },
      "execution_count": null,
      "outputs": [
        {
          "output_type": "stream",
          "name": "stdout",
          "text": [
            "Mounted at /content/drive\n"
          ]
        }
      ]
    },
    {
      "cell_type": "code",
      "source": [
        "!ls \"/content/drive/My Drive/Colab Notebooks/NLP\""
      ],
      "metadata": {
        "colab": {
          "base_uri": "https://localhost:8080/"
        },
        "id": "etxekntadU7E",
        "outputId": "c86e98fe-a4c0-43fd-a162-0cb4990b1289"
      },
      "execution_count": null,
      "outputs": [
        {
          "output_type": "stream",
          "name": "stdout",
          "text": [
            "counselchat-data.csv\n"
          ]
        }
      ]
    },
    {
      "cell_type": "code",
      "source": [
        "import pandas as pd\n",
        "\n",
        "therapy_data = pd.read_csv('/content/drive/My Drive/Colab Notebooks/NLP/counselchat-data.csv')  "
      ],
      "metadata": {
        "id": "I13SjYY-eERc"
      },
      "execution_count": null,
      "outputs": []
    },
    {
      "cell_type": "code",
      "source": [
        "display(therapy_data)"
      ],
      "metadata": {
        "colab": {
          "base_uri": "https://localhost:8080/",
          "height": 1000
        },
        "id": "1zemT0j9eVwO",
        "outputId": "320fb21a-2e16-4403-c0a7-de379afdb84d"
      },
      "execution_count": null,
      "outputs": [
        {
          "output_type": "display_data",
          "data": {
            "text/plain": [
              "                    questionID  \\\n",
              "0     5566fab2a64752d71ec3ca69   \n",
              "1     5566f94fa64752d71ec3ca64   \n",
              "2     5567d26887a1cc0c3f3d8f46   \n",
              "3     556bed15c969ba5861709df5   \n",
              "4     556ba115c969ba5861709de6   \n",
              "...                        ...   \n",
              "1477  56d2f2aa9471b0b41ec68e4d   \n",
              "1478  5797a411b43cd7825e26e246   \n",
              "1479  5796a111bc069dff6a5339ca   \n",
              "1480  5795952cbc069dff6a5339aa   \n",
              "1481  5773e438b9ff751f196e8df0   \n",
              "\n",
              "                                          questionTitle  \\\n",
              "0      Escalating disagreements between mother and wife   \n",
              "1              I'm addicted to smoking. How can I stop?   \n",
              "2                        Keeping secrets from my family   \n",
              "3             The Underlying Causes of Being Possessive   \n",
              "4             Can I control anxiety without medication?   \n",
              "...                                                 ...   \n",
              "1477  Is it healthy to embarrass a child as punishment?   \n",
              "1478                      How do I fix my relationship?   \n",
              "1479  What are the long term effects of losing one's...   \n",
              "1480  How do I help my 20 year old boyfriend who say...   \n",
              "1481                      I'm worried about my new job.   \n",
              "\n",
              "                                           questionText  \\\n",
              "0     My wife and mother are having tense disagreeme...   \n",
              "1     I'm planning to have baby, so I have to quit s...   \n",
              "2     I have secrets in my mind, and I don't know wh...   \n",
              "3     I am extremely possessive in my relationships ...   \n",
              "4     I had a head injury a few years ago and my min...   \n",
              "...                                                 ...   \n",
              "1477  My grandson's step-mother sends him to school ...   \n",
              "1478  My boyfriend is in recovery from drug addictio...   \n",
              "1479  The birth mother attempted suicide several tim...   \n",
              "1480  I think adult life is making him depressed and...   \n",
              "1481  I just took a job that requires me to travel f...   \n",
              "\n",
              "                                            questionUrl  \\\n",
              "0     https://counselchat.com/questions/escalating-d...   \n",
              "1     https://counselchat.com/questions/i-m-addicted...   \n",
              "2     https://counselchat.com/questions/keeping-secr...   \n",
              "3     https://counselchat.com/questions/the-underlyi...   \n",
              "4     https://counselchat.com/questions/can-i-contro...   \n",
              "...                                                 ...   \n",
              "1477  https://counselchat.com/questions/is-it-health...   \n",
              "1478  https://counselchat.com/questions/how-do-i-fix...   \n",
              "1479  https://counselchat.com/questions/what-are-the...   \n",
              "1480  https://counselchat.com/questions/how-do-i-hel...   \n",
              "1481  https://counselchat.com/questions/i-m-worried-...   \n",
              "\n",
              "                                                topics  \\\n",
              "0                                      Family Conflict   \n",
              "1                            Substance Abuse,Addiction   \n",
              "2                                      Family Conflict   \n",
              "3               Behavioral Change,Social Relationships   \n",
              "4                                              Anxiety   \n",
              "...                                                ...   \n",
              "1477                         Parenting,Family Conflict   \n",
              "1478                           Relationships,Addiction   \n",
              "1479  Family Conflict,Parenting,Children & Adolescents   \n",
              "1480          Relationships,Depression,Substance Abuse   \n",
              "1481                         Anxiety,Career Counseling   \n",
              "\n",
              "                 therapistName  \\\n",
              "0     Kristi King-Morgan, LMSW   \n",
              "1             Rebecca Duellman   \n",
              "2                 Jeevna Bajaj   \n",
              "3             Rebecca Duellman   \n",
              "4             Rebecca Duellman   \n",
              "...                        ...   \n",
              "1477           Candice Lawhorn   \n",
              "1478         Sherry Katz, LCSW   \n",
              "1479         Sherry Katz, LCSW   \n",
              "1480         Sherry Katz, LCSW   \n",
              "1481              Philip Kolba   \n",
              "\n",
              "                                           therapistUrl  \\\n",
              "0     https://counselchat.com/therapists/kristi-king...   \n",
              "1     https://counselchat.com/therapists/rebecca-due...   \n",
              "2       https://counselchat.com/therapists/jeevna-bajaj   \n",
              "3     https://counselchat.com/therapists/rebecca-due...   \n",
              "4     https://counselchat.com/therapists/rebecca-due...   \n",
              "...                                                 ...   \n",
              "1477  https://counselchat.com/therapists/candice-law...   \n",
              "1478  https://counselchat.com/therapists/sherry-katz...   \n",
              "1479  https://counselchat.com/therapists/sherry-katz...   \n",
              "1480  https://counselchat.com/therapists/sherry-katz...   \n",
              "1481    https://counselchat.com/therapists/philip-kolba   \n",
              "\n",
              "                                             answerText  upvotes  \n",
              "0     <p>What you are describing is something psycho...        0  \n",
              "1     <p>Hi. Good for you in planning ahead to do wh...        0  \n",
              "2     <p>It sounds like keeping the secrets has beco...        0  \n",
              "3     <p>Hi there. It's great you are able to realiz...        0  \n",
              "4     <p>You didn't say what or how many medications...        0  \n",
              "...                                                 ...      ...  \n",
              "1477  <p>Absolutely not!&nbsp;</p><p>It is never in ...        0  \n",
              "1478  <p>I'm sorry you have tension between you and ...        0  \n",
              "1479  <p>The true answer is, \"no one can really say ...        0  \n",
              "1480  <p>How do you help yourself to believe you req...        0  \n",
              "1481                    <p>hmm this is a tough one!</p>        0  \n",
              "\n",
              "[1482 rows x 9 columns]"
            ],
            "text/html": [
              "\n",
              "  <div id=\"df-17fa2f9b-739e-4583-9eb1-3e53de35c116\">\n",
              "    <div class=\"colab-df-container\">\n",
              "      <div>\n",
              "<style scoped>\n",
              "    .dataframe tbody tr th:only-of-type {\n",
              "        vertical-align: middle;\n",
              "    }\n",
              "\n",
              "    .dataframe tbody tr th {\n",
              "        vertical-align: top;\n",
              "    }\n",
              "\n",
              "    .dataframe thead th {\n",
              "        text-align: right;\n",
              "    }\n",
              "</style>\n",
              "<table border=\"1\" class=\"dataframe\">\n",
              "  <thead>\n",
              "    <tr style=\"text-align: right;\">\n",
              "      <th></th>\n",
              "      <th>questionID</th>\n",
              "      <th>questionTitle</th>\n",
              "      <th>questionText</th>\n",
              "      <th>questionUrl</th>\n",
              "      <th>topics</th>\n",
              "      <th>therapistName</th>\n",
              "      <th>therapistUrl</th>\n",
              "      <th>answerText</th>\n",
              "      <th>upvotes</th>\n",
              "    </tr>\n",
              "  </thead>\n",
              "  <tbody>\n",
              "    <tr>\n",
              "      <th>0</th>\n",
              "      <td>5566fab2a64752d71ec3ca69</td>\n",
              "      <td>Escalating disagreements between mother and wife</td>\n",
              "      <td>My wife and mother are having tense disagreeme...</td>\n",
              "      <td>https://counselchat.com/questions/escalating-d...</td>\n",
              "      <td>Family Conflict</td>\n",
              "      <td>Kristi King-Morgan, LMSW</td>\n",
              "      <td>https://counselchat.com/therapists/kristi-king...</td>\n",
              "      <td>&lt;p&gt;What you are describing is something psycho...</td>\n",
              "      <td>0</td>\n",
              "    </tr>\n",
              "    <tr>\n",
              "      <th>1</th>\n",
              "      <td>5566f94fa64752d71ec3ca64</td>\n",
              "      <td>I'm addicted to smoking. How can I stop?</td>\n",
              "      <td>I'm planning to have baby, so I have to quit s...</td>\n",
              "      <td>https://counselchat.com/questions/i-m-addicted...</td>\n",
              "      <td>Substance Abuse,Addiction</td>\n",
              "      <td>Rebecca Duellman</td>\n",
              "      <td>https://counselchat.com/therapists/rebecca-due...</td>\n",
              "      <td>&lt;p&gt;Hi. Good for you in planning ahead to do wh...</td>\n",
              "      <td>0</td>\n",
              "    </tr>\n",
              "    <tr>\n",
              "      <th>2</th>\n",
              "      <td>5567d26887a1cc0c3f3d8f46</td>\n",
              "      <td>Keeping secrets from my family</td>\n",
              "      <td>I have secrets in my mind, and I don't know wh...</td>\n",
              "      <td>https://counselchat.com/questions/keeping-secr...</td>\n",
              "      <td>Family Conflict</td>\n",
              "      <td>Jeevna Bajaj</td>\n",
              "      <td>https://counselchat.com/therapists/jeevna-bajaj</td>\n",
              "      <td>&lt;p&gt;It sounds like keeping the secrets has beco...</td>\n",
              "      <td>0</td>\n",
              "    </tr>\n",
              "    <tr>\n",
              "      <th>3</th>\n",
              "      <td>556bed15c969ba5861709df5</td>\n",
              "      <td>The Underlying Causes of Being Possessive</td>\n",
              "      <td>I am extremely possessive in my relationships ...</td>\n",
              "      <td>https://counselchat.com/questions/the-underlyi...</td>\n",
              "      <td>Behavioral Change,Social Relationships</td>\n",
              "      <td>Rebecca Duellman</td>\n",
              "      <td>https://counselchat.com/therapists/rebecca-due...</td>\n",
              "      <td>&lt;p&gt;Hi there. It's great you are able to realiz...</td>\n",
              "      <td>0</td>\n",
              "    </tr>\n",
              "    <tr>\n",
              "      <th>4</th>\n",
              "      <td>556ba115c969ba5861709de6</td>\n",
              "      <td>Can I control anxiety without medication?</td>\n",
              "      <td>I had a head injury a few years ago and my min...</td>\n",
              "      <td>https://counselchat.com/questions/can-i-contro...</td>\n",
              "      <td>Anxiety</td>\n",
              "      <td>Rebecca Duellman</td>\n",
              "      <td>https://counselchat.com/therapists/rebecca-due...</td>\n",
              "      <td>&lt;p&gt;You didn't say what or how many medications...</td>\n",
              "      <td>0</td>\n",
              "    </tr>\n",
              "    <tr>\n",
              "      <th>...</th>\n",
              "      <td>...</td>\n",
              "      <td>...</td>\n",
              "      <td>...</td>\n",
              "      <td>...</td>\n",
              "      <td>...</td>\n",
              "      <td>...</td>\n",
              "      <td>...</td>\n",
              "      <td>...</td>\n",
              "      <td>...</td>\n",
              "    </tr>\n",
              "    <tr>\n",
              "      <th>1477</th>\n",
              "      <td>56d2f2aa9471b0b41ec68e4d</td>\n",
              "      <td>Is it healthy to embarrass a child as punishment?</td>\n",
              "      <td>My grandson's step-mother sends him to school ...</td>\n",
              "      <td>https://counselchat.com/questions/is-it-health...</td>\n",
              "      <td>Parenting,Family Conflict</td>\n",
              "      <td>Candice Lawhorn</td>\n",
              "      <td>https://counselchat.com/therapists/candice-law...</td>\n",
              "      <td>&lt;p&gt;Absolutely not!&amp;nbsp;&lt;/p&gt;&lt;p&gt;It is never in ...</td>\n",
              "      <td>0</td>\n",
              "    </tr>\n",
              "    <tr>\n",
              "      <th>1478</th>\n",
              "      <td>5797a411b43cd7825e26e246</td>\n",
              "      <td>How do I fix my relationship?</td>\n",
              "      <td>My boyfriend is in recovery from drug addictio...</td>\n",
              "      <td>https://counselchat.com/questions/how-do-i-fix...</td>\n",
              "      <td>Relationships,Addiction</td>\n",
              "      <td>Sherry Katz, LCSW</td>\n",
              "      <td>https://counselchat.com/therapists/sherry-katz...</td>\n",
              "      <td>&lt;p&gt;I'm sorry you have tension between you and ...</td>\n",
              "      <td>0</td>\n",
              "    </tr>\n",
              "    <tr>\n",
              "      <th>1479</th>\n",
              "      <td>5796a111bc069dff6a5339ca</td>\n",
              "      <td>What are the long term effects of losing one's...</td>\n",
              "      <td>The birth mother attempted suicide several tim...</td>\n",
              "      <td>https://counselchat.com/questions/what-are-the...</td>\n",
              "      <td>Family Conflict,Parenting,Children &amp; Adolescents</td>\n",
              "      <td>Sherry Katz, LCSW</td>\n",
              "      <td>https://counselchat.com/therapists/sherry-katz...</td>\n",
              "      <td>&lt;p&gt;The true answer is, \"no one can really say ...</td>\n",
              "      <td>0</td>\n",
              "    </tr>\n",
              "    <tr>\n",
              "      <th>1480</th>\n",
              "      <td>5795952cbc069dff6a5339aa</td>\n",
              "      <td>How do I help my 20 year old boyfriend who say...</td>\n",
              "      <td>I think adult life is making him depressed and...</td>\n",
              "      <td>https://counselchat.com/questions/how-do-i-hel...</td>\n",
              "      <td>Relationships,Depression,Substance Abuse</td>\n",
              "      <td>Sherry Katz, LCSW</td>\n",
              "      <td>https://counselchat.com/therapists/sherry-katz...</td>\n",
              "      <td>&lt;p&gt;How do you help yourself to believe you req...</td>\n",
              "      <td>0</td>\n",
              "    </tr>\n",
              "    <tr>\n",
              "      <th>1481</th>\n",
              "      <td>5773e438b9ff751f196e8df0</td>\n",
              "      <td>I'm worried about my new job.</td>\n",
              "      <td>I just took a job that requires me to travel f...</td>\n",
              "      <td>https://counselchat.com/questions/i-m-worried-...</td>\n",
              "      <td>Anxiety,Career Counseling</td>\n",
              "      <td>Philip Kolba</td>\n",
              "      <td>https://counselchat.com/therapists/philip-kolba</td>\n",
              "      <td>&lt;p&gt;hmm this is a tough one!&lt;/p&gt;</td>\n",
              "      <td>0</td>\n",
              "    </tr>\n",
              "  </tbody>\n",
              "</table>\n",
              "<p>1482 rows × 9 columns</p>\n",
              "</div>\n",
              "      <button class=\"colab-df-convert\" onclick=\"convertToInteractive('df-17fa2f9b-739e-4583-9eb1-3e53de35c116')\"\n",
              "              title=\"Convert this dataframe to an interactive table.\"\n",
              "              style=\"display:none;\">\n",
              "        \n",
              "  <svg xmlns=\"http://www.w3.org/2000/svg\" height=\"24px\"viewBox=\"0 0 24 24\"\n",
              "       width=\"24px\">\n",
              "    <path d=\"M0 0h24v24H0V0z\" fill=\"none\"/>\n",
              "    <path d=\"M18.56 5.44l.94 2.06.94-2.06 2.06-.94-2.06-.94-.94-2.06-.94 2.06-2.06.94zm-11 1L8.5 8.5l.94-2.06 2.06-.94-2.06-.94L8.5 2.5l-.94 2.06-2.06.94zm10 10l.94 2.06.94-2.06 2.06-.94-2.06-.94-.94-2.06-.94 2.06-2.06.94z\"/><path d=\"M17.41 7.96l-1.37-1.37c-.4-.4-.92-.59-1.43-.59-.52 0-1.04.2-1.43.59L10.3 9.45l-7.72 7.72c-.78.78-.78 2.05 0 2.83L4 21.41c.39.39.9.59 1.41.59.51 0 1.02-.2 1.41-.59l7.78-7.78 2.81-2.81c.8-.78.8-2.07 0-2.86zM5.41 20L4 18.59l7.72-7.72 1.47 1.35L5.41 20z\"/>\n",
              "  </svg>\n",
              "      </button>\n",
              "      \n",
              "  <style>\n",
              "    .colab-df-container {\n",
              "      display:flex;\n",
              "      flex-wrap:wrap;\n",
              "      gap: 12px;\n",
              "    }\n",
              "\n",
              "    .colab-df-convert {\n",
              "      background-color: #E8F0FE;\n",
              "      border: none;\n",
              "      border-radius: 50%;\n",
              "      cursor: pointer;\n",
              "      display: none;\n",
              "      fill: #1967D2;\n",
              "      height: 32px;\n",
              "      padding: 0 0 0 0;\n",
              "      width: 32px;\n",
              "    }\n",
              "\n",
              "    .colab-df-convert:hover {\n",
              "      background-color: #E2EBFA;\n",
              "      box-shadow: 0px 1px 2px rgba(60, 64, 67, 0.3), 0px 1px 3px 1px rgba(60, 64, 67, 0.15);\n",
              "      fill: #174EA6;\n",
              "    }\n",
              "\n",
              "    [theme=dark] .colab-df-convert {\n",
              "      background-color: #3B4455;\n",
              "      fill: #D2E3FC;\n",
              "    }\n",
              "\n",
              "    [theme=dark] .colab-df-convert:hover {\n",
              "      background-color: #434B5C;\n",
              "      box-shadow: 0px 1px 3px 1px rgba(0, 0, 0, 0.15);\n",
              "      filter: drop-shadow(0px 1px 2px rgba(0, 0, 0, 0.3));\n",
              "      fill: #FFFFFF;\n",
              "    }\n",
              "  </style>\n",
              "\n",
              "      <script>\n",
              "        const buttonEl =\n",
              "          document.querySelector('#df-17fa2f9b-739e-4583-9eb1-3e53de35c116 button.colab-df-convert');\n",
              "        buttonEl.style.display =\n",
              "          google.colab.kernel.accessAllowed ? 'block' : 'none';\n",
              "\n",
              "        async function convertToInteractive(key) {\n",
              "          const element = document.querySelector('#df-17fa2f9b-739e-4583-9eb1-3e53de35c116');\n",
              "          const dataTable =\n",
              "            await google.colab.kernel.invokeFunction('convertToInteractive',\n",
              "                                                     [key], {});\n",
              "          if (!dataTable) return;\n",
              "\n",
              "          const docLinkHtml = 'Like what you see? Visit the ' +\n",
              "            '<a target=\"_blank\" href=https://colab.research.google.com/notebooks/data_table.ipynb>data table notebook</a>'\n",
              "            + ' to learn more about interactive tables.';\n",
              "          element.innerHTML = '';\n",
              "          dataTable['output_type'] = 'display_data';\n",
              "          await google.colab.output.renderOutput(dataTable, element);\n",
              "          const docLink = document.createElement('div');\n",
              "          docLink.innerHTML = docLinkHtml;\n",
              "          element.appendChild(docLink);\n",
              "        }\n",
              "      </script>\n",
              "    </div>\n",
              "  </div>\n",
              "  "
            ]
          },
          "metadata": {}
        }
      ]
    },
    {
      "cell_type": "code",
      "source": [
        "# the text from the patient\n",
        "text_data = therapy_data['questionText']\n",
        "display(text_data)\n",
        "# response from the therapist\n",
        "response_data = therapy_data['answerText']\n",
        "display(response_data)"
      ],
      "metadata": {
        "colab": {
          "base_uri": "https://localhost:8080/",
          "height": 434
        },
        "id": "LAcox2dteg2g",
        "outputId": "851964a1-9574-4983-80a6-0e423ea9ad1b"
      },
      "execution_count": null,
      "outputs": [
        {
          "output_type": "display_data",
          "data": {
            "text/plain": [
              "0       My wife and mother are having tense disagreeme...\n",
              "1       I'm planning to have baby, so I have to quit s...\n",
              "2       I have secrets in my mind, and I don't know wh...\n",
              "3       I am extremely possessive in my relationships ...\n",
              "4       I had a head injury a few years ago and my min...\n",
              "                              ...                        \n",
              "1477    My grandson's step-mother sends him to school ...\n",
              "1478    My boyfriend is in recovery from drug addictio...\n",
              "1479    The birth mother attempted suicide several tim...\n",
              "1480    I think adult life is making him depressed and...\n",
              "1481    I just took a job that requires me to travel f...\n",
              "Name: questionText, Length: 1482, dtype: object"
            ]
          },
          "metadata": {}
        },
        {
          "output_type": "display_data",
          "data": {
            "text/plain": [
              "0       <p>What you are describing is something psycho...\n",
              "1       <p>Hi. Good for you in planning ahead to do wh...\n",
              "2       <p>It sounds like keeping the secrets has beco...\n",
              "3       <p>Hi there. It's great you are able to realiz...\n",
              "4       <p>You didn't say what or how many medications...\n",
              "                              ...                        \n",
              "1477    <p>Absolutely not!&nbsp;</p><p>It is never in ...\n",
              "1478    <p>I'm sorry you have tension between you and ...\n",
              "1479    <p>The true answer is, \"no one can really say ...\n",
              "1480    <p>How do you help yourself to believe you req...\n",
              "1481                      <p>hmm this is a tough one!</p>\n",
              "Name: answerText, Length: 1482, dtype: object"
            ]
          },
          "metadata": {}
        }
      ]
    },
    {
      "cell_type": "code",
      "source": [
        "display(text_data[0])\n",
        "emotions = te.get_emotion(text_data[0])\n",
        "max(emotions, key=emotions.get)\n",
        "value = max(emotions.values())\n",
        "print(value)"
      ],
      "metadata": {
        "colab": {
          "base_uri": "https://localhost:8080/",
          "height": 105
        },
        "id": "ZzELfh3se3HM",
        "outputId": "1d90f7a3-9770-46e3-e36b-0229efbbf82c"
      },
      "execution_count": null,
      "outputs": [
        {
          "output_type": "display_data",
          "data": {
            "text/plain": [
              "'My wife and mother are having tense disagreements. In the past, they’ve had minor differences. For example, my wife would complain to me my mother is too overbearing; my mother would complain my wife is lazy.\\r\\nHowever, it’s intensified lately. I think the cause is my wife talked back to her once. Now, any little disagreement is magnified, leading to major disagreements. What can I do?'"
            ],
            "application/vnd.google.colaboratory.intrinsic+json": {
              "type": "string"
            }
          },
          "metadata": {}
        },
        {
          "output_type": "stream",
          "name": "stdout",
          "text": [
            "0.8\n"
          ]
        }
      ]
    },
    {
      "cell_type": "code",
      "source": [
        "display(response_data[0])\n",
        "emotions = te.get_emotion(response_data[0])\n",
        "print(emotions)\n",
        "max(te.get_emotion(response_data[0]))\n",
        "value = max(emotions.values())\n",
        "print(value)"
      ],
      "metadata": {
        "colab": {
          "base_uri": "https://localhost:8080/",
          "height": 209
        },
        "id": "4ceWCVaqfNkK",
        "outputId": "082dd226-8133-4308-d6e9-3e1b56a5b7ea"
      },
      "execution_count": null,
      "outputs": [
        {
          "output_type": "display_data",
          "data": {
            "text/plain": [
              "\"<p>What you are describing is something psychologists have termed &#34;triangulation&#34; which is what happens when one family member will not talk to the one they have a problem with and goes to a third member of the family to complain instead. You have been &#34;triangulated&#34; by your wife and mother.</p><p>This is often seen in families. It's seen everywhere. How many times have you had a problem with someone but you didn't go to them to tell them, you went to someone else to complain? It is usually difficult for a person to confront another, especially in relationships where there is a power differential. For example, I bet it's easier to complain to a coworker about your boss rather than go to the boss with your complaint.</p><p>I'm not saying triangulation is always a bad thing. Sometimes a third party mediator is needed to help solve problems between two people who disagree. That's what therapists do every day! Sometimes just getting someone else's perspective can help you see the issue clearer. However, in your situation it sounds like this is becoming a problem. You are stuck in the middle between two people that love you and that you love.</p><p>If you want to put a stop to this triangulation, you will need to encourage the two of them to talk to each other and work out their differences. Perhaps it was a simple misunderstanding that some open communication can clear up. Even if they really don't like each other and can't get along, your relationship with the both of them is going to continue to deteriorate the longer you are stuck in the middle. </p><p>Try to understand what might be the feelings behind their behavior. It is possible that they may both feel threatened by the other. These are the two most important women in your life and they both know it. Your mother may be afraid that she will lose you if she confronts your wife. I heard one mother-in-law describe her son's wife as the gateway to her son. The wife has the power to dictate when and how often the mother gets to see her son. The wife also is the gateway to the grandchildren. If your wife doesn't like her mother-in-law she can severely hamper or damage her mother-in-law's relationship with you and any children you two may have. From your wife's viewpoint, this is the woman that she may feel like she can never live up to. If you regularly praise your mom's cooking, her housework, gardening, or anything else your wife may feel that you are putting down her own efforts in these areas and can feel unappreciated. This can be especially difficult if your wife and mother are nothing alike. I am not saying that this is the case with your family's situation. These are just a few examples from other families in a similar situation as yours. </p><p>Regardless of what the cause is, if this dysfunctional pattern is allowed to continue, your mom and your wife will begin to get upset with you when you don't agree with them. They will get upset if you don't align yourself with them against the other. They will be offended when it seems like you are choosing the other one's side or that you are not standing up for them like they think you should. In worst cases, if it continues to escalate you may even find yourself in the impossible position of having to choose between your wife and your mother which may mean cutting off contact with the other, ending that relationship. Change the dynamics before it spirals even further.</p>\""
            ],
            "application/vnd.google.colaboratory.intrinsic+json": {
              "type": "string"
            }
          },
          "metadata": {}
        },
        {
          "output_type": "stream",
          "name": "stdout",
          "text": [
            "{'Happy': 0.07, 'Angry': 0.11, 'Surprise': 0.11, 'Sad': 0.24, 'Fear': 0.48}\n",
            "0.48\n"
          ]
        }
      ]
    },
    {
      "cell_type": "code",
      "source": [
        "# get the emotions for pairs of text/response \n",
        "# \"neutral\", \"joy\", \"anger\", \"sadness\" and \"fear\"\n",
        "\n",
        "def get_emotion_label(text_data, response_data):\n",
        "  final_data = []\n",
        "  for i in range(100):\n",
        "    # get labelled data for text \n",
        "    try:\n",
        "      emotions = te.get_emotion(text_data[i])\n",
        "    except Exception:\n",
        "      continue\n",
        "    max_emotion = max(emotions, key=emotions.get)\n",
        "    value = max(emotions.values())\n",
        "    if value == 0:\n",
        "      condition = 'neutral'\n",
        "    else:\n",
        "      if max_emotion == 'Happy':\n",
        "        condition = 'joy'\n",
        "      elif max_emotion == 'Angry':\n",
        "        condition = 'anger'\n",
        "      elif max_emotion == 'Sad':\n",
        "        condition = 'sadness'\n",
        "      elif max_emotion == 'Fear' or max_emotion == 'Surprise':\n",
        "        condition = 'fear'\n",
        "    labelled_data1 = {'text': text_data[i], 'condition': condition}\n",
        "\n",
        "    # get labelled data for response\n",
        "    try:\n",
        "      emotions = te.get_emotion(text_data[i])\n",
        "    except Exception:\n",
        "      continue\n",
        "    max_emotion = max(emotions)\n",
        "    value = max(emotions.values())\n",
        "    if value == 0:\n",
        "      condition = 'neutral'\n",
        "    else:\n",
        "      if max_emotion == 'Happy':\n",
        "        condition = 'joy'\n",
        "      elif max_emotion == 'Angry':\n",
        "        condition = 'anger'\n",
        "      elif max_emotion == 'Sad':\n",
        "        condition = 'sadness'\n",
        "      elif max_emotion == 'Fear' or max_emotion == 'Surprise':\n",
        "        condition = 'fear'\n",
        "    labelled_data2 = {'text': response_data[i], 'condition': condition}\n",
        "    data_pair = [labelled_data1, labelled_data2]\n",
        "    final_data.append(data_pair)\n",
        "  return final_data\n"
      ],
      "metadata": {
        "id": "BeMtzb25fduL"
      },
      "execution_count": null,
      "outputs": []
    },
    {
      "cell_type": "code",
      "source": [
        "# text and responses are given condition/emotion labels for cakechat.\n",
        "# array of the text/response pairs\n",
        "labels = get_emotion_label(text_data, response_data)\n",
        "print(labels)"
      ],
      "metadata": {
        "colab": {
          "base_uri": "https://localhost:8080/"
        },
        "id": "AdD3kPVej4mJ",
        "outputId": "44776d51-5ed6-45bb-a633-8aa7a73be189"
      },
      "execution_count": null,
      "outputs": [
        {
          "output_type": "stream",
          "name": "stdout",
          "text": [
            "[[{'text': 'My wife and mother are having tense disagreements. In the past, they’ve had minor differences. For example, my wife would complain to me my mother is too overbearing; my mother would complain my wife is lazy.\\r\\nHowever, it’s intensified lately. I think the cause is my wife talked back to her once. Now, any little disagreement is magnified, leading to major disagreements. What can I do?', 'condition': 'sadness'}, {'text': \"<p>What you are describing is something psychologists have termed &#34;triangulation&#34; which is what happens when one family member will not talk to the one they have a problem with and goes to a third member of the family to complain instead. You have been &#34;triangulated&#34; by your wife and mother.</p><p>This is often seen in families. It's seen everywhere. How many times have you had a problem with someone but you didn't go to them to tell them, you went to someone else to complain? It is usually difficult for a person to confront another, especially in relationships where there is a power differential. For example, I bet it's easier to complain to a coworker about your boss rather than go to the boss with your complaint.</p><p>I'm not saying triangulation is always a bad thing. Sometimes a third party mediator is needed to help solve problems between two people who disagree. That's what therapists do every day! Sometimes just getting someone else's perspective can help you see the issue clearer. However, in your situation it sounds like this is becoming a problem. You are stuck in the middle between two people that love you and that you love.</p><p>If you want to put a stop to this triangulation, you will need to encourage the two of them to talk to each other and work out their differences. Perhaps it was a simple misunderstanding that some open communication can clear up. Even if they really don't like each other and can't get along, your relationship with the both of them is going to continue to deteriorate the longer you are stuck in the middle. </p><p>Try to understand what might be the feelings behind their behavior. It is possible that they may both feel threatened by the other. These are the two most important women in your life and they both know it. Your mother may be afraid that she will lose you if she confronts your wife. I heard one mother-in-law describe her son's wife as the gateway to her son. The wife has the power to dictate when and how often the mother gets to see her son. The wife also is the gateway to the grandchildren. If your wife doesn't like her mother-in-law she can severely hamper or damage her mother-in-law's relationship with you and any children you two may have. From your wife's viewpoint, this is the woman that she may feel like she can never live up to. If you regularly praise your mom's cooking, her housework, gardening, or anything else your wife may feel that you are putting down her own efforts in these areas and can feel unappreciated. This can be especially difficult if your wife and mother are nothing alike. I am not saying that this is the case with your family's situation. These are just a few examples from other families in a similar situation as yours. </p><p>Regardless of what the cause is, if this dysfunctional pattern is allowed to continue, your mom and your wife will begin to get upset with you when you don't agree with them. They will get upset if you don't align yourself with them against the other. They will be offended when it seems like you are choosing the other one's side or that you are not standing up for them like they think you should. In worst cases, if it continues to escalate you may even find yourself in the impossible position of having to choose between your wife and your mother which may mean cutting off contact with the other, ending that relationship. Change the dynamics before it spirals even further.</p>\", 'condition': 'fear'}], [{'text': \"I'm planning to have baby, so I have to quit smoking - but it's hard. Sometimes it's not a physical need, it's mental.\\r\\n\\r\\nI cannot help myself from thinking about smoking. What can I do to get rid of this addiction?\", 'condition': 'anger'}, {'text': \"<p>Hi. Good for you in planning ahead to do what's healthiest for your baby (and yourself). That's a great first step! It's also good that you are able to identify that it's not always a physical need that's driving the addiction.</p><p>For the next steps, I would suggest trying to figure out when the psychological cravings for a cigarette occur. The psychological (or mental) cravings are usually based out of habit, such as having a cigarette after a meal. And if you're consciously trying to quit, you'll find the craving starts with simply thinking about having a cigarette, then usually moves on to thinking about how good it made you feel, etc., etc. Well, if I'm on a diet and I continue to let myself think about the ice cream sitting in the freezer, eventually I'll give in and eat it.</p><p>You're going to have thoughts about smoking a cigarette. That's normal and, for the most part, out of your control. But you choose whether or not to CONTINUE thinking and dwelling about it after that initial thought. That's what you would have to work on changing. When you have that initial thought, acknowledge it (&#34;Ok, I kind of want a cigarette now.&#34;), but then change the thoughts that typically follow. Distract yourself, think about something else, do something else, whatever it takes to get your mind off of that cigarette.</p><p>I've suggested to clients before that they should plan these scenarios out ahead of time so they already know what they're going to do when the time comes. Write down when you usually have the craving for a cigarette and then write down new thoughts or things to do to get your mind off of it. Eventually, it will become easier and easier to brush off that initial thought until you no longer have it.</p><p>Best of luck, and you have a really great motivator to quit - your baby!</p>\", 'condition': 'fear'}], [{'text': \"I have secrets in my mind, and I don't know what to do with them. I don't want to tell my wife and mom because I don't want to hurt them. But I'm not sure how long that I can keep the secret to myself.\\r\\n\\r\\nWhat should I do? It's becoming annoying and making me anxious. Help me out\", 'condition': 'fear'}, {'text': \"<p>It sounds like keeping the secrets has become a problem for you now. There are several things to consider before you make a decision.</p><p>- You mentioned that you don't want your wife and mom to know because you don't want to hurt them – why would it hurt them? </p><p>- Is it necessary for them to know this information?</p><p>- What are the consequences of either telling them the truth or not telling them? (for you and for your wife and mom).</p><p>- Once you have considered these, think of what you would tell your friend if they were in your exact situation?</p><p>- Also, if your wife or mom were in your situation right now, what do you think they would do themselves?</p><p>- If your wife and mom were in this situation, how would you feel? Would you want to know the secrets?</p><p>- How has keeping these secrets affected your own mental and physical health?</p><p>Once you have looked at the problem from all angles, you will be able to better make a decision on whether it is right to tell them or not.</p>\", 'condition': 'fear'}], [{'text': 'I am extremely possessive in my relationships and this is hurting my friendships. How can I fix my underlying issues?', 'condition': 'sadness'}, {'text': \"<p>Hi there. It's great you are able to realize there are other issues going on with someone who feels possessive. At the root of it is fear. Fear of losing someone, fear of being alone, fear of not being good enough. All those fears can lead to low self-esteem and feeling like you have to control other people so you don't lose them. The thing is, controlling other people only pushes them away. Vicious circle, right? </p><p>What I would suggest is some cognitive therapy to change those underlying ways of thinking. You can start with this assignment. Write down all the things you think about yourself, positive and not-so-positive. Then rewrite those not-so-positive things so they are positive. For example, thinking something like, &#34;I'm too pushy&#34;, can be rewritten as, &#34;I'm assertive and I go after what I want.&#34; It can be hard to do since we tend to get &#34;stuck&#34; in our negative ways of thinking about ourselves. If you have someone you trust, you can ask for their help as well since most likely they see you differently than you see yourself.</p><p>Finding a good cognitive therapist can help you further, but if that's not an option for you right now, there are lots of self-help books and websites that are out there. You've already taken the first step, so keep moving forward.</p>\", 'condition': 'fear'}], [{'text': \"I had a head injury a few years ago and my mind races all the time. I have trouble sleeping and have a lot of anxiety. Every medicine I have been on my body rejects; I get sick to my stomach and get blisters in my mouth. How can I calm my self down? I'm a wreck.\", 'condition': 'sadness'}, {'text': \"<p>You didn't say what or how many medications you've tried. Certain anxiety medications can make you feel nauseous, but I haven't heard of any that cause mouth blisters, so there may be some other underlying medical issue there. I would definitely talk to your primary care physician and whoever has prescribed the medication as well as a neurologist if you've suffered a severe head injury. There are so many medications available for anxiety or insomnia or even depression that there may be others with lesser side effects.</p><p>But beyond that, have you tried any other treatments such as deep breathing or meditation? Meditation can be very effective, but it takes practice and you don't have to sit cross-legged for hours chanting &#34;Ohm&#34; to meditate. It's about focusing on your breath, rather than all the thoughts that are racing through your head. And when they do take your mind off your breath, simply refocus (and refocus and refocus). Like I said, it takes practice, so don't give up. You can find many sites offering different ways to meditate, so look around and see what works best for you. Like medication, you just have to find the one that works best and that might take some experimentation.</p><p>I hope this helps and best of luck to you.</p>\", 'condition': 'fear'}], [{'text': \"I want a secure relationship with someone that wants to be with me and who will actually put effort into it.\\r\\nI seem to gravitate toward unavailable men and those that want intimacy and no relationship. I let men dictate and control me because they accuse me of being controlling. I let men emotionally abuse me and I am at their beck and call.\\r\\nI am not comfortable being alone or doing anything by myself. I feel I need the security of someone being around just to survive. I know what I'm doing wrong and I do it anyway just hoping things will change. How do I stop this behavior and thought process?\", 'condition': 'joy'}, {'text': '<p>It is a good thing that you have recognized that you have been in some unhealthy relationships and that you are wanting to break this pattern.  You seem to have some good insight into the situation.</p><p>The type of behavior that you are describing is usually rooted in childhood issues with insecure attachment bonds with your caregivers, childhood trauma and/or abuse or neglect, or dysfunctional family issues that did not allow you to develop healthy boundaries for yourself or a sense of self.  This is something that is going to take some time to work through in therapy.  I recommend a book titled “Boundaries: Where you end and I begin” by Anne Katherine.  Another book that might be helpful is “Codependent No More” by Melody Beattie. </p><p>In the meantime, until you can work through your personal issues, absolutely do not enter into another relationship.  Take however long you need to and work on becoming a whole, happy, emotionally healthy person on your own.  Needing another person to define you is problematic.  That’s too much to expect from any individual.</p><p>For a relationship to be healthy and happy, both people in the relationship first need to be a whole person on their own.  That means having a clear sense of self, knowing who you are and what you want, knowing how to set healthy boundaries, and knowing how to meet your own needs.  It is unreasonable to expect your partner to meet all of your needs all of the time.  There will be times that they won’t be able to meet your needs.  You have to know how to meet those yourself. </p><p>When you are working on becoming the best you that you can be, eventually the right person will come into your life.  Then you can CHOOSE to be with someone because you want them in your life instead of feeling like you NEED them to complete you.</p>', 'condition': 'fear'}], [{'text': 'I easily recognize this but have no control over it and need suggestions for managing my anger.', 'condition': 'fear'}, {'text': '<p>I suggest that you work on emotional awareness. </p><p>Emotional awareness basically means knowing what you are feeling and why.</p><p>Emotional awareness also means that you can identify the link between the way you are feeling and your actions. In other words knowing that your feelings dictate what you do.</p><p>Often feelings of hurt or insecurity can come out as anger if we cannot properly identify and express the feelings.</p><p>Being emotionally aware also means that you are able to express your feelings to others.  Being unable to do so leads to feelings of frustration and being misunderstood.</p><p>Many people for many different reasons are not in touch with their emotions.  For example, men traditionally have been brought up taught to not express sadness or weakness.  Therefore, many men learned to turn feelings of sadness, insecurities, or fears into anger and express these feelings as anger.  Being taught not to feel a certain emotion does not make that emotion disappear.  Instead it makes us learn how to express it in other, incorrect, ways.  If a man never learns to say “I am sad” or “that really hurt my feelings” and instead lashes out in anger, then the response they get from those around them will be to the anger and not a response to the underlying true feeling, which will leave the man feeling alone and misunderstood.</p><p>You can control yourself and not explode.  Walk away, remove yourself from the situation, do whatever you have to do to not lash out.  Instead of reacting the way you normally would, go somewhere by yourself and think about what just happened and try to understand why such a “simple” thing upset you.  What is the real feeling driving these outbursts?  Maybe you can begin to recognize an underlying pattern. </p><p>It might help to keep an anger journal.  Write down everything that gets you upset.  That might help you see a pattern and pinpoint what may be setting you off.  Talking with a therapist about this would be beneficial in helping pinpoint the underlying cause of the outbursts you are experience. </p>', 'condition': 'fear'}], [{'text': 'It takes me a long time to fall asleep; I’d estimate about two hours. I often have nightmares, starting with being eaten by a monster, and I often wake up frightened and unable to breathe.\\r\\n\\r\\nI believe I started losing sleep after breaking up with a girlfriend of 8 years. Also, my father’s business went bankrupt and my mother has a chronic condition. I was under a lot of stress, and life lost meaning.\\r\\n\\r\\nAfter improving my life and developing a habit of running and exercise to release stress, my symptoms improved. However in the past couple months, I started losing sleep again and having nightmares without warning. How can I solve this issue?', 'condition': 'fear'}, {'text': \"<p>First of all, exercise is always beneficial for your physical and emotional health. That's great that you have added this in your routine. Have you also considered altering your diet? Certain foods are linked with poor sleep. For example, alcohol, caffeine, nicotine and high fat content foods do not bode well with quality sleep, especially right before bed time.  On the other hand, warm milk and foods high in carbohydrates have actually shown to positively impact sleep.</p><p>Additionally, at bed time it's important to keep your room dim, cool and without distractions (i.e. TV, IPad, Phone). Stick to a sleep routine and avoid any activities close to bed time that demand a lot of attention and energy.</p><p>As far as your nightmares, there could be many causes contributing to them. Certain foods (many of the ones mentioned) or medications could be the culprit. Doing a bit of research into the ones you are consuming may help you eliminate the offender. </p><p>You may also benefit from talk therapy with a qualified therapist to discuss any underlying issues you are experiencing. Oftentimes, depression and anxiety can manifest themselves during sleep, causing nightmares. </p><p>Finally, Yoga has shown to be very beneficial for quality sleep. There are many instructional videos available that can introduce you to the practice if you'd rather not join a class right away. </p><p>Best of luck to you and I sincerely hope you are able to catch up on some well deserved Z's!</p>\", 'condition': 'fear'}], [{'text': \"What do you do when a therapist and a parent drugs a child and makes up lies in order to stop the other parent's custody visitation?\", 'condition': 'fear'}, {'text': \"<p>I will admit I am confused about this question.  Are you the other parent in question or a concerned coworker of this therapist? </p><p>Therapists do not prescribe or have access to medication.  Most therapists won't even get involved in a custody battle.  They know there is a good chance of their records ending up in court and that they themselves will have to testify in court.  Of course, therapists are human and can make mistakes, but I find it highly unlikely that a therapist would knowingly and willingly do something like this that is such a major ethical violation.  Not only are they losing their license to practice by doing this, they are going to face criminal charges and jail time.  If their clinical judgment is that the other parent is a danger to the child, they don't have to resort to illegal means to try to prove this. </p><p>If you have concrete proof that this has happened then there is a process in which you can file a report against the therapist with their licensure board.  Every therapist is licensed in their state.  There are different types of licensures so you would need to know this therapist's licensure.</p><p>Most accusations from the other parent are expected in a custody situation because people do tend to get quite ugly.  Don't accuse the therapist or the parent of anything just to try to make yourself look better and them look bad.  Have evidence of wrongdoing before accusing them of this.  If this has really happened then of course it needs to be reported, but don't try to ruin someone's career unless you are sure this occurred.</p>\", 'condition': 'fear'}], [{'text': \"They're calling me names like hypocrite and a baby even when they act in the same manner as I do. I'm tired of being called names. What should I do?\", 'condition': 'neutral'}, {'text': '<p>It sounds like your confused as to why your friends would be calling you a hypocrite when they act in the same manner, correct? Communication is key to any relationship. I would recommend speaking with your friends face-to-face to address why they feel your behavior is concerning. </p><p>In-person contact is the best method of sorting out differences considering texts, emails or any written response can be misconstrued. Be upfront with them and let them know that being accused of hypocrisy is hurtful and you feel it is unfounded. If after speaking with them you feel that they have valid reasons for the way they are feeling, maybe you can consider modifying your behavior accordingly. Especially if this friendship is valuable to you. However, make sure they are aware that there is a respectful way to address these issues and name calling is not one of them. </p><p>On the other hand, if you feel that their reasons are indeed unfounded, it may be best to distance yourself from the relationship. Not all friendships are healthy ones. And it is important that you surround yourself with people who are an asset to your self esteem as opposed to those that hinder it.</p><p>I hope you are able to get this matter sorted. Best of luck!</p>', 'condition': 'neutral'}], [{'text': \"Cheating is something unacceptable for me but because we have two daughters I decided not to break up the family.\\r\\nHowever, now I am struggling to forget and forgive what happened. I feel like I cannot trust him. Without trust, I cannot stay in this relationship. On the other hand, I do not want my children to get hurt. I'm not sure how to move forward?\", 'condition': 'anger'}, {'text': \"<p>First of all, my heart goes out to you. Infidelity is an extremely challenging obstacle to overcome. There are some things that you should consider. First of all, did he seem truly remorseful? If you felt in his heart that he was truly sorry for what he had done, it will give you a piece of mind that it was a  mistake. </p><p>Secondly, was he forthcoming with this information? How about with answering your questions after the truth was uncovered? If you found that he was still lying or not forthcoming, the sting is even more painful. He should be able to answer any question you have honestly and without hesitation.</p><p>Thirdly, has he shown a positive difference after this experience? At this time, he should still be proving his faithfulness to the marriage, you and the children.</p><p>Keep in mind that experiencing infidelity is a form of grief. It is not a quick process that can easily be overcome. What you are experiencing is 100% normal. </p><p>My best suggestion would be to see a marriage therapist. Find out what drove your husband to cheat in the first place and decide if this aspect in his life has been resolved. I know its important for you to keep your family together but children can sense anger and frustration, this is not a healthy environment either. If you decide that you can no longer remain in the relationship, a therapist will also be able to help you cope with the separation along with addressing your children's needs.</p><p>Please know that you are not alone and that unfortunately, many relationships have endured this very thing. It may also be helpful to reach out to people who have experienced similar obstacles. The web is a great resource to find groups whether online or in person to use as a support or sounding board.</p><p>Best of luck to you and your family!</p>\", 'condition': 'fear'}], [{'text': 'I have a lot of issues going on right now. First of all, I have a lot of trouble sleeping at times, while other nights I sleep too much and still feel quite tired. I’m also noticing increased irritability and experiencing anxiety attacks that last for hours. Is there something wrong with me and if so what should I do?', 'condition': 'sadness'}, {'text': '<p>It sounds as if you may be experiencing a bout of anxiety and/or depression. Sleeping difficulties, irritability and anxiety attacks all are correlated with these mood disorders. And it’s actually quite common for someone to deal encounter this during their lifetime. </p><p>Also, keep in mind that just because you are experiencing this now does not mean that you will be dealing with it the rest of your life. Many times, it can be a single episode and if treatment is received, you can help prevent any recurrent episodes.</p><p>However, you may want to first talk with your primary physician to rule out any medical issues that could be causing these problems. There may be a reason for the sudden onset of these symptoms that can be addressed quickly. </p><p>On the other hand, if it is determined that you are experiencing anxiety and/or depression without a medical reason, there are two methods that are very helpful in your treatment:</p><p><b>#1 Talk therapy with a certified therapist</b></p><p>He/She will be able to address the concerns you’re experiencing and discovering if there is an underlying issue that may be causing it.</p><p><b>#2 Medication</b></p><p>There are many medications that can assist you with the feelings that you are experiencing. Your doctor will be able to help you find the right one that works for you. If one doesn’t work, keep trying. There are many different options to address your specific needs.</p><p>Also, a combination of these two options is extremely beneficial!</p><p>Thank you for your question. I sincerely hope that you feel better soon!</p>', 'condition': 'fear'}], [{'text': \"I have no sex drive due to medical issues. I’ve shut down completely and closed everyone out. I’ve even told my husband that I wanted a divorce since that’s what I thought he wanted to hear. However, it devastated me when I learned he's seeing someone else.\\r\\nI’ve since told him that I wanted to work things out but he’s not sure I actually mean it. He thinks the only reason I want him back is because I’m jealous.  How do I show him I’m serious?\", 'condition': 'sadness'}, {'text': '<p>I’m sorry to hear about your current situation. My heart goes out to you during this time.</p><p>First of all, it is of vital importance that you discuss your symptoms with your doctor. Regardless of whether you are able to mend your relationship with your husband, you need to address the physical issues you are experiencing. More than likely he/she will be able to help you relieve some of these symptoms.</p><p>Secondly, you must be upfront and honest with your husband. Intimacy is a large part of a relationship and it is unfair to your husband that you did not disclose how you were feeling. I think he would appreciate knowing that it was your medical problems causing the lack of sexual desire as opposed to the reason being him.</p><p>If you explain to him that you are addressing your sexual issues with your doctor in order to enhance your relationship, he may be more willing to see that you are serious in wanting to mend the relationship. </p><p>The conversation will be hard to explain to your doctor and your husband since it is of such a personal nature but it will be extremely beneficial. And please note that the reason for the feelings you were experiencing (or lack thereof), was not your fault.</p><p>Best of luck to you and your husband!</p>', 'condition': 'fear'}], [{'text': 'I have a lot of issues going on right now. First of all, I have a lot of trouble sleeping at times, while other nights I sleep too much and still feel quite tired. I’m also noticing increased irritability and experiencing anxiety attacks that last for hours. Is there something wrong with me and if so what should I do?', 'condition': 'sadness'}, {'text': \"<p>Hi there. I have to commend you on reaching out to get some answers on why you are feeling the way that you are feeling. A lot of people secretly go about their lives every day feeling this way because they are too afraid of what the answer might be.</p><p>First off, what stressors do you have in your life right now? Financial, relationship and unemployment are all common stressors for people. They can often make it difficult for us to sleep at night due to the constant racing thoughts and wonders of how you will deal with it all. </p><p>Secondly, do you have a history of depression or does depression run in your family? Some of the symptoms listed here in this question (i.e. trouble sleeping, constant fatigue, too much sleep, anger &amp; anxiety) are all common symptoms of depression. Often times, these symptoms can be overlooked and mistaken for &#34;just being tired.&#34; </p><p>Furthermore, it's important to ask yourself, if you are feeling worthless, problems with concentration and recurrent thoughts of death. If you are having these symptoms, please seek help IMMEDIATELY. </p><p>Lastly, considering your stated symptoms I would recommend reaching out to your Doctor for further consult. It's always better to be safe and the earlier you catch the symptoms the faster you will get to feeling better!  do Some helpful tips for the your Doctor would be to monitor your sleep habits (i.e. how much or little are you sleeping), make a list of your triggers for your anger outbursts as well as your triggers for your anxiety attacks. </p><p>I hope this was helpful and the best of luck to you.</p>\", 'condition': 'fear'}], [{'text': 'The last of my emotions belong to my pets. Today my dad said he might get rid of them tomorrow. If that does happen I might dig hole in the ground with a paper that says \"here lays my emotions. R.I.P.\" I practically have no emotions left and I came to the realization about this not being normal by comparing my reaction to certain situations to my family\\'s. What\\'s wrong with me?', 'condition': 'sadness'}, {'text': '<p>It sounds to me like you have had a lot going on and now you are afraid you are going to lose the last things you care about, your pets.  I do not know what all is going on in your family, and I cannot answer for your dad’s actions or his reasoning behind this.</p><p>I would recommend that you focus on developing healthy coping skills.  We cannot change what others do but we can change how what they do affects us.  If you have all of your emotions and all of yourself tied up into one thing (like your pets) then when that thing is taken away it causes a lot of emotional distress.  It is really good to have a wide variety of interests such as friends, hobbies, games, etc.  Develop other things that you care about and are passionate about.</p><p>Another reason for developing healthy coping skills to deal with whatever might be going on in your life is if you don’t have healthy ones, you may develop some very unhealthy ones.  You have to cope somehow, right?  Developing unhealthy ways of coping with life is only going to make life more difficult for you.</p><p>I don’t know if this is what it is like for you at your house, but there are two kinds of household environments that can cause dysfunction in children. One is when you grow up in a very rigid stern household where all decisions are made for you and you feel like you have no control over anything. The other is a household where things were chaotic and you never knew what was going to happen next and had no stability. People need to have some stability in their lives and need to feel in control over some things in order to feel safe.  Both of these environments can lead you to develop some unhealthy ways of coping with life.  Please talk to a trusted adult about your feelings before it gets any worse.</p>', 'condition': 'fear'}], [{'text': \"Me and my girlfriend just broke up. She said she loves me but is not in love anymore. This came out of nowhere. We seemed so happy together.\\r\\nIt all started when she went to Missouri to visit her family. The first week she was there she was fine then once she went to this one sister’s house everything changed. That's when she told me she loved me but was not in love with me anymore. I thought maybe it was just because she missed her family and she just wanted to be home because she told me that she could not leave them again.\\r\\nThen she told me to come to her in Missouri. So that's what I did. I quit my job I dropped everything, said goodbye to my family in Florida and drove 15 straight hours to be with her.\\r\\nOnce I got there everything was fine again.  She apologized for everything and said she didn't mean any of it then we were good for about a week. Then she went back to saying she didn’t love me anymore and had no feelings for me.\\r\\nThe only thing that really gets me and makes me not want to accept this is that now she is pregnant. This wasn’t an accident. We were trying to get pregnant, so all this is hard to accept. I love her so much. I have never been bad to her. I've treated her the best I can. I wanted her to be my wife. I was going to propose to her when she got back. Now I'm losing my family and my mind. I don't know what to do.\", 'condition': 'sadness'}, {'text': '<p>I am sorry to hear of these troubles.  I see a few issues here.  I wonder why you were both trying to get pregnant when the relationship seemed troubled?  Some people think that they can fix a broken relationship by getting pregnant, and all this does is bring up more problems.</p><p>You say you never treated her badly, and I believe you.  People in a relationship can still be unhappy even when there is no abuse or mistreatment going on.  In fact, giving too much of yourself to the relationship and not having a “self” outside of this relationship can be unhealthy.  It takes two whole, healthy, happy people who are that way when they are single to come together to make a whole, healthy, happy couple in a relationship.  Expecting your partner to meet all your needs or to provide your happiness is not going to work.</p><p>There are two books that I recommend you buy and read.  One is Codependent No More.  The other is Can My Relationship Be Saved?</p><p>Sometimes when you cling and try even harder to hold onto someone, it makes you both miserable.  You cannot change her and cannot change her mind.  Sometimes the best thing is to let go.  If it is meant to be, you will end up back together again.  It seems like this is something that she needs to decide since she is the one that keeps doing the leaving.  I suggest backing off and letting her go.  Maybe she needs time to clear her head and make up her mind.  If it is meant to be, she will come back. If not, use this time to work on being a healthy happy you on your own.</p>', 'condition': 'fear'}], [{'text': 'Now I have anger and trust issues. How can I treat this and fix myself?', 'condition': 'fear'}, {'text': '<p>I will assume that for whatever reason, you either do not want to or are not able to seek counseling for this.  However, I highly urge you to do so because long-term childhood abuse does have negative consequences for your life as an adult, as it seems you are already aware. </p><p>There are confidential and free crisis hotlines that you can call that deal with sexual abuse.  Some/most also offer free counseling services in local areas.  That would be a good place to start looking, especially if cost of counseling is an issue.</p><p>The important thing to know is that what happened was not your fault and that you deserve to live a happy life free of the past.  Having anger and trust issues after something like this is a perfectly normal reaction to what happened to you.  Angry?  Yes! At your brother for what he did, at your parents for not protecting you.  Having trouble trusting?  Of course!  The very people who were supposed to love and protect you hurt you instead. Two books that might help you are Codependent No More and Boundaries: Where You End and I Begin.</p>', 'condition': 'fear'}], [{'text': \"I've never been able to talk with my parents. My parents are in their sixties while I am a teenager. I love both of them but not their personalities. I feel that they do not take me seriously whenever I talk about a serious event in my life. If my dad doesn’t believe me, then my mom goes along with my dad and acts like she doesn’t believe me either. I’m a pansexual, but I can’t trust my own parents.\\r\\nI've fought depression and won; however, stress and anxiety are killing me. I feel that my friends don't listen to me. I know they have their own problems, which I do my best to help with. But they don't always try to help me with mine, when I really need them. I feel as if my childhood has been taken from me. I feel as if I have no one whom I can trust.\", 'condition': 'fear'}, {'text': '<p>Hi there. Being 15 years old can be a very difficult time in your teenage life. I remember when I was 15 and how I often felt my parents weren’t listening to me. It’s even more difficult when you feel that you do not have a friend that you can confide in. </p><p>Having depression in the past and being able to get through it shows me that you can get through anything! Depression alone is a very difficult problem to work through. In addition to the communication problem with your parents, it appears that you are also struggling with stress and anxiety. We all have stress and anxiety in our lives. If we didn’t, none of us would be living. Anxiety &amp; stress keep us on our toes! Often, I have to remind myself of this as well. However, it is how we manage stress and anxiety, so it will not overcome our lives. </p><p>Are you familiar with relaxation techniques, such as: deep breathing exercises, meditation or yoga? Relaxation Techniques can help you tremendously in reducing your stress and anxiety. </p><p>Deep breathing exercises are helpful when you are on the go, such as school, shopping, out with friends or whatever extracurricular activities you engage in.  Most people do not take full advantage of their lung capacity. I know, that sounds silly. But, it’s true. You would be surprised how much air you lungs can hold. Imagine being in the Doctor’s office and taking deep breaths. This is what you want to do when you are feeling overwhelmed and/or stressed. Take a moment to take in at least 10 deep breaths and let them out slowly. You will be surprised how well you feel afterwards. </p><p>Meditation and Yoga are also healthy forms to working through stress and anxiety. You will need a quiet place for your meditation. You want to be “in the moment” and take in the peace and serenity. All it takes is a quiet place, closing your eyes and thinking of your “happy place.” Some people use meditation music as well. If you have access to this type of music and or the internet for more ways to practice meditation, please go for it! </p><p>Yoga on the other hand will take a little more work and practice. I would not suggest you learning this on your own, if you have never attempted yoga before. Find an experienced Yoga instructor to teach you the ropes and/or ask your school counselor about the possibility of getting someone to come to the school to teach the students. </p><p>Lastly, in regards to your parents it is very important to be able to have a relationship where you feel comfortable communicating. I would recommend writing a letter to them, if you are unable to express how you feel in person. A letter is more intimate and requires a little more effort on their end. If they are open on working on this relationship, maybe suggest family counseling to fully work on this issue.</p><p> I hope this was helpful for you and I wish you the best! </p>', 'condition': 'fear'}], [{'text': \"I have been with this guy on and off for 8 years. At first, we used to do things together and our sex life was ok. Then things started to change, we'd break up and reconnect, and he cheated on me numerous times.  We've also had two beautiful baby girls during this time. Now we argue and he says I am not affectionate at all or I don't know how to please a man, when I work part-time, take care of a 2 year old and a 5 month old and cook. Sometimes he cooks, but he also spends a lot of time on the internet. In addition, I have 2 boys and he has 1 son. I feel somewhere I have lost something. It's not that I don’t care, I truly love this guy, but I'm just tired of being the one who is always being judged. Please, I am in need of a Christian counselor to help us because I really need to speak to someone.\", 'condition': 'fear'}, {'text': \"<p>I don't think you’ve lost something, I think you’ve found something - your breaking point, and it's about time. Your boyfriend seems to be a very selfish and immature man who reconnects with you when it's convenient for him. Obviously, he has his own issues, but I want to address yours. I agree you need to talk to someone. The fact that you’ve put up with his repeated cheating and then letting him blame you for it (by saying you're not affectionate enough, etc.), tells me you probably have low self-esteem and have likely told yourself over the years that you don't deserve any better. You do! You may truly love this guy, but based on his behaviors, he does not love you, not in the way you deserve.  And although you may want to believe he can change, he has proved over and over again that he's not willing to, so you need to do what is best for you and your children. What would you tell your daughters if someone was treating them this way? Would you want your sons to treat women this way? That's what you're teaching your children when they see this.</p><p>Like I said, I agree that you should talk to someone. You can ask your boyfriend to go too, but my guess is he won't. Even if he does, you should still see someone individually to work on YOU. I understand it's not easy to just kick him out, especially since you have children together, but a counselor can help you talk through all the details while helping you raise your self-esteem and self-worth.</p>\", 'condition': 'fear'}], [{'text': \"My son claims that hes been having extremely violent thoughts and dreams. Not violent like he's hurting someone, but violent thoughts like horrible things happening to his loved ones. He explained one of his dreams the other day and it was so violent it was sickening. It was far beyond anything in a horror movie, he says he can't help these thoughts they just pop up. Please help!\", 'condition': 'fear'}, {'text': \"<p>Let me start my stating this is important to take seriously - taking to his PCP, getting a referral to a pediatric specialist, and getting him to a relational psychotherapist would be my first tasks. </p><p>I wont label this occurrences as &#34;normal&#34; yet it is important to note these things do occur. My first observation is to say that it is a tremendous advantage that your son is communicating what he is experiencing. I'd encourage him to continue to do so, no matter the extent of his thoughts - his trust of you being able the handle his experience is of utmost importance. His containment and sense of security is also dependent on your reaction to what he shares. Seek professional help, communicating your support, including a plan of action, and reassuring him you will figure this out together will help you as you begin. </p>\", 'condition': 'fear'}], [{'text': \"Whenever I leave my girlfriend I get panic attacks. I'm taking medications to control them, but I'm thinking of moving in with her since I get so anxious.\", 'condition': 'fear'}, {'text': '<p><span>I’m sorry to hear that you are currently experiencing panic attacks. I hope that the medication you have been prescribed has provided you with some relief. Unfortunately, I don’t feel that moving in with your girlfriend would alleviate your anxiety. Although you may feel very anxious about leaving her, your body is reacting to this stressful event in your life in an unhealthy manner. You may be able to render this particular situation but it’s likely that you may experience another panic attack when an additional stressful event arises. </span></p><p>Therefore, it is essential that you address the reason for why you are experiencing panic attacks in the first place followed by practicing coping mechanisms in the case that one would arise in the future.</p><p>Talk therapy has shown to be effective with those affected by anxiety along with breathing exercises and yoga. A trained therapist will be able to assist you in finding the right stress reducing method so that you can reduce the chance of another attack occurring.</p><p>I wish you the best of luck! It sounds like you are very happy in your relationship and I hope you are able to reduce your anxiety so that you are able to enjoy one another.</p>', 'condition': 'fear'}], [{'text': 'I need to get on base to see my doctor. My ID card was in my wallet which was stolen. I’m unable to reach my husband at this time. He is only one who can take me on base in order to get a new ID so I can continue to see doctor. Is there anything I can do?', 'condition': 'sadness'}, {'text': '<p>Do you have any other form of identification? The first place to stop would be the Visitor’s Center or whichever department issues passes. They are located outside of the gate so you do not need a military ID to enter. If you have another form of identification it’s possible that they can give you a pass in order to go and obtain a new military ID. </p><p>If you do not, you could always ask someone else to sponsor you on (a friend, coworker, etc.) that have military access. Depending on the threat level, they may not need your ID as long as you are with someone that has access. Keep in mind that currently (6/11/15) all military bases are on Bravo which unfortunately means you will need your own ID.</p><p>Finally, if all else fails, call your doctor and explain your situation. I’m sure they would be more than willing to discuss your options.</p><p>Also, it’s important to make sure that you report your wallet being stolen if you haven’t already. Security Forces on base can help you with this and to ensure your ID doesn’t get into the wrong hands. </p><p>Good luck!</p>', 'condition': 'fear'}], [{'text': 'I’ve known my boyfriend for several years. We were friends for a long time. In 2013 we started a relationship, and he even asked me to move in with him since I lived out of state. I planned to move in with him in 2014 after I finished school and he found a job. However, during this time we had a few arguments and broke up with each other for a short period of time. We decided later to make it work. Shortly after, I found out that I was pregnant. I wanted to tell him during his next visit. However, he never came to see me and instead asked me for money. After I gave him money, he quit answering my phone calls and texts. \\r\\n\\r\\nSoon after, I experienced a miscarriage. I texted him about what had happened, and he didn’t seem to care. I was extremely hurt by this. I still decided to move back as I had originally planned. He helped me with the move and replaced the money I had lent him. During this time, I asked if he wanted to be in this relationship because I needed to know. Although he says he did, I hardly ever see him. He never got a job, which was in the original plan.  \\r\\n\\r\\nAfter that, we both started seeing other people for a short amount of time but once again got back together. Once we got back together, I cut all ties with the former relationship I had been in. I thought he had too. But I found out that he did not attempt to do as I did and was still talking with another woman. In fact, he had even sent inappropriate pictures to her. When I confronted him about this, he wasn’t apologetic. He said that he only did it to get even with me and was actually mad at me for looking through his phone. He even closed his car window on my finger and tried to throw me out of his car. I don’t know what to do.', 'condition': 'fear'}, {'text': '<ol></ol><p>There are plenty of red flags that you have been presented with:</p><ol><li>Several breakups </li><li><span>Not holding up his end of the bargain regarding work</span></li><li><span>Lack of empathy for your miscarriage</span></li><li><span>Lying about his involvement with another woman</span></li><li><span>Physical violence, which is of most concern. </span></li></ol><p>This seems to be a very unhealthy relationship. In my experience, relationships such as these rarely become positive ones. Violence is never okay and regardless of his reasoning (you looking through his phone), it is indefensible. You have to look at these red flags and ask yourself, “Is this really someone I want to marry? Is he an asset to my life?” I think you’ll realize he is not.</p><p>Best of luck to you and please know that you deserve someone who treats you with kindness, dignity and respect.</p>', 'condition': 'fear'}], [{'text': \"I am going through a divorce from a narcissistic sociopath who left me for another woman after mentally and emotionally abusing me for 11 years. I have moved to a different state and after giving up my successful business am working as a server at a restaurant. I’m coping as best as I can. Is it normal and healthy to not adapt as quickly and be as strong as I think I should be? I am astounded at his cruelty and how much he doesn't care, as well as most other people in my life. I feel like I don't exist to anyone anymore as there is no contact from anyone who I thought cared about me. My brother just said no to lending me a few hundred dollars for me to live on. I am losing faith in humanity itself.\", 'condition': 'sadness'}, {'text': '<p>I am very sorry to hear of your struggles.  I think that it is normal to struggle to get your feet under you again after a divorce, especially after leaving a relationship that lasted 11 years, so try not to be too hard on yourself.  Take it one day at a time and do the best you can.</p><p>I notice that you said he left you.  This tells me that you didn’t have the strength to leave him on your own despite the fact that you say he was emotionally and mentally abusive and also cheating on you.  Low self-esteem can keep someone in a bad relationship because they think they can’t do any better.  Also, abusers will make you think that they are the best thing you can get.  The way I see it, he did you a favor.   You are now free to make your own life whatever you want it to be. </p><p>Take this time alone to work on you.  As hurtful as it may be that other people don’t want to help you, this is something that you need to do for yourself without feeling like you need someone in your life to take care of you.  Your statement “I don’t feel like I exist anymore” tells me that in addition to low self-esteem, you also don’t have a clear sense of identify and rely on the people in your life to help define who you are.  People can and will let you down.  It is important for you to learn to handle disappointment, learn to take care of your own needs, and to gain a stronger sense of self. </p><p>Do nice things for yourself every day because you deserve it.  Even if it is just to soak a little longer in a hot bubble bath, do something that makes you feel good.  Find a hobby that you enjoy.  Look in the mirror and tell yourself some positive affirmations daily.  Google “positive affirmations” to find some that resonate with you.  Such statements might be “I am a good person who deserves to be happy” or “I can do this.”  Some relaxation and meditation exercises may help you as well.  There are some free meditation exercises that you can find online by doing a simple Google search.</p><p>Take this time to focus on you and try not to worry about what everyone else in your life is doing.  When you are a happier, more stable person, the right people will come into your life without you even looking for them.  Good luck with rebuilding your life.  I know it is hard!  Remember to take it one day at a time.</p>', 'condition': 'fear'}], [{'text': \"I've been married for 3 years and I have two kids. During my 3-years married, my husband cheated on me twice.  The second time really got to me and at my lowest I hurt him back. We aren't communicating as well as I would like. What do I do?\", 'condition': 'joy'}, {'text': '<p>Hi there. Thank you reaching out for help. It takes a lot of courage for someone that is being abused to reach out for help. I want you to know that I am here to help you in any way that I can. </p><p>First and foremost, you did not mention whether or not you had children yourself by this man. I’m going to assume there are. So, the most important thing right at this moment is asking yourself, if you and your children are safe? Is the boyfriend currently living in the home or is he coming and going? If he is coming and going or currently living in the home, my suggestion for you to is to pack a bag for you and your children and go somewhere safe (i.e. family members home, friend or a shelter temporarily). I cannot stress this enough. Although, some people tend to minimize their abusers behavior (i.e. they only do it when they are drinking, they only do it when they are mad), it’s those individuals that find themselves or their children in a serious situation. So, you can never take abuse (physical or mental) lightly because you never know what is going through that persons mind at that particular time. It’s always better to be safe than sorry. </p><p>Secondly, it will not be safe, helpful or productive to attempt to talk to the abuser about your relationship. Abusers often times try and manipulate you into staying by apologizing or attempting to justify their behaviors. This is the time you would want to go see a magistrate in order to get a protective order for you and your children.</p><p>It’s unfortunate that your significant other was involved with another women causing pregnancy; however, that is no longer your concern. Your concern at this point is keeping yourself and your children safe. I would also suggest counseling for you and your children in order to work through these issues. I hope this was helpful and please stay safe and take care of yourself. </p>', 'condition': 'fear'}], [{'text': \"I have been with my husband for almost 7 years. We got engaged a little after 5 years of being together. I had always been clear that I wanted to get married and I sadly would drop hints about how i wanted him to propose. \\r\\nWhen he did propose it was during a random vacation that I had planned. I was happy but I couldn't help feeling disappointed too.\\r\\nI had told him numerous times before that I wanted him to do it in front of my friends and family. I know it sounds dumb to be upset but I couldn't help how I was feeling.\\r\\nWe are now married but the wedding and ring were also far from what I wanted and it wasn't due to lack of funds.  I know this is all material and the marriage is the most important thing but I cant help but get jealous and envious every time I see someone get a proposal or wedding that I had wanted.\\r\\nI cant help my anger because I know we only get one proposal and one wedding. What I wanted will never happen.\\r\\nI have been working on my feelings for the past year and half to get over it. I try to focus on our marriage but every time I see someone have the best proposals and weddings I get upset.\\r\\nI know it is selfish and I know its petty but I just can't control it. It's ruining our relationship because I constantly think about it. Plus, I get mad at him for small things because I am trying to hide the fact that I am so disappointed. \\r\\nWhy can't I move on?\", 'condition': 'sadness'}, {'text': \"<p>It's hard to let go of the dreams you had regarding your wedding and engagement. This was something that you and most women think about for years, so it's understandable to be disappointed. But please be aware that it is rare that any wedding is perfect. You may envy your friends' weddings but more than likely they had a few mishaps of their own and/or it wasn't as perfect as they had planned it either. </p><p>However, like you know, the marriage is the most important thing.  How many women are envious that you are in a happy, stable relationship? I assure you that there are plenty. </p><p>Try to live in the present considering that dwelling on the past can still not change how you were proposed to or how your wedding day transpired. Focus on what you can control NOW. Perhaps, you can plan an extravagant renewal of your vows or change the look of your ring?</p><p>I would also be upfront with your husband and explain why you've been short lately. But after that, close that chapter and move on. It sounds like you have a wonderful companion and you certainly don't want to lose this due to a situation that is impossible to change.</p>\", 'condition': 'fear'}], [{'text': \"What can I do to stop grieving my mother’s death?  When I am awake I just cry every day. I don't have anyone to talk to. I need help; I am still cry over her.  Will I ever stop crying? It’s been 3 years.\", 'condition': 'joy'}, {'text': '<p>I am sorry that you lost your mother. That is a really hard thing for someone to go through.</p><p>There is really no set time for grief to be over, but I agree that if it has been three years and you are still crying every day then this is past the time for normal grief.  I do not know how old you are and if you are in school or have a job, but I would imagine that if by now you literally were doing nothing but crying every day all day, someone would have noticed and would have gotten you some help.  For one thing, bills have to be paid.</p><p>There are typically five stages of grief and they can come in any order.  You can go back to another stage that you previously experienced. Denial, anger, bargaining, depression, and acceptance are the stages. </p><p>At first, people are usually in denial over the fact that they lose someone or are losing someone.  This may mean that you deny they are ill or deny that they have actually died.</p><p>Then comes bargaining, in which you may beg God that if you can only have this person back then you will do whatever. </p><p>Depression is when the reality has settled in and when we cry and really feel the loss.  It sounds like you are stuck in this phase.</p><p>Finally, acceptance is when we accept that it has happened and we pick up the pieces of our life and move on.</p><p>When we lose someone we never forget them.  We may always have certain days that are tough, such as holidays or any special remembrance of your loved one.  But we do get to the place where we accept that death is part of life and that it is inevitable, and that life goes on.</p><p>A therapist can help you explore the reasons for your extended grief and can help you with coping skills to better deal with it.  One suggestion I have is not to try to run from the sad feelings, don’t try to not feel them.  Embrace the feelings.  Let the feelings wash over you and accept them.  Trying not to feel something is not going to help.  Sadness is a part of life and needs to be felt just like happiness does.  Unpleasant feelings are not to be avoided.</p><p>I am sincerely sorry that you lost your mother and that you have had such a hard time of it for three years now.  You deserve to be happy and to live a full life.  I am sure your mother would not want you being sad for so long.  I wish you all the best as you continue to try to heal from this loss and deal with your grief.</p>', 'condition': 'fear'}], [{'text': \"I'm having issues with my relative. The police never believe the experiences I have been through because I am only a kid. \\r\\n\\r\\nI've even had trouble trying to reach a therapist because I said I wanted to get an adult to help me. Could you please give me advice?\", 'condition': 'joy'}, {'text': \"<p>I think it would be wise for you to call a hotline especially designed for children. It's called the Childhelp National Child Abuse Hotline. The number is 1-800-4-A-CHILD (1-800-422-4453). </p><p>It is completely anonymous and a trained therapist will be able to provide you with guidance, confidentiality, and can also help you make a report of you want.</p><p>The call is completely free and they are open 24 hours a day / 7 days a week. </p><p>I'm glad that you are taking steps to improve your situation. You are a very brave and an intelligent child. </p><p>Please remember to call 911 if you are in immediate danger.</p>\", 'condition': 'fear'}], [{'text': \"My wife just last week said she wants a divorce and it's all sudden. I understand that marriages have their ups and downs but I don't understand why she can't tell me why she wants a divorce. Should I fight for my family (daughter and wife)?\", 'condition': 'sadness'}, {'text': \"<p>Chances are, if you really think about it, there were signs that something wasn’t quite right in your marriage. You may have passed these things off as being the normal ups and downs of a marriage, but whatever it was (or wasn't), it's obviously bothering your wife. I would say yes, keep trying to fight for your family, at least until you know what the problems are from your wife's perspective and if they're repairable. Ask your wife if she’s willing to try to work on the marriage and then see a marriage counselor. Just be sure you’re open to hearing what's said and try not to get defensive if she blames you for some things.</p><p>Even if your wife is adamant about getting a divorce, that doesn't mean you’re divorcing your daughter and you should make sure she knows that. Continue to be a part of her life. And although it may be difficult, if a divorce does happen, try to be as amicable as possible with your wife so your daughter isn't further impacted by this new family dynamic.</p>\", 'condition': 'fear'}], [{'text': \"I loved him more than anything. He passed away on our anniversary which was also the day I was going to apply for our apartment. I'm not handling it well. I moved to a new town and started a new life but nothing helps.\", 'condition': 'joy'}, {'text': \"<p>I am so sorry to hear of your boyfriend's passing. Grief is something that can take a long time to recover from. Have you considered speaking with a grief counselor? Being able to speak with someone that specializes in grief would be very beneficial. </p><p>Do not get down on yourself for not recovering quickly. This is one of the hardest aspects to deal with in life but eventually you will be able to move forward. </p><p>In the mean time, immerse yourself with positivity (i.e. Good friends, hobbies, exercise) and try to schedule a time with a counselor. </p><p>Perhaps there will be a support group you could also join. Oftentimes, it is comforting to meet others who share the same experience as you.</p><p>Good luck to you. I hope you will find peace and comfort soon.</p>\", 'condition': 'fear'}], [{'text': 'I did some horrible sexual things as a kid and I regret everything. Can someone help me cope with myself? Can someone help me remember my past?', 'condition': 'fear'}, {'text': \"<p>I'm very sorry to hear this. Hypnosis can be a valuable tool that a trained therapist can use to bring back suppressed memories. However, keep in mind that hypnosis doesn't work for everyone. </p><p>I think regardless, speaking with a therapist about your sexual issues would be beneficial. It seems like you have experienced some painful experiences in the past and may need help dealing with them in order to move forward. </p><p>In addition, if past memories do resurface a trained therapist will be able to help you cope with them as they arise. </p><p>I wish you the best of luck and I hope you receive the treatment that you deserve.</p>\", 'condition': 'fear'}], [{'text': \"I have been with a guy for 4 years,  he's a great guy and we also have a son together. The problem is that I'm in love with a guy that I've been talking to for about 2 years but I've never met him in person. Honestly I'm bored with the relationship I have with the first guy and he makes want to go after the second guy, I don't know how to tell him that. What should I do?\", 'condition': 'sadness'}, {'text': '<p>Hi there. Wow, this sounds like a sticky situation; however, I’m here to help guide you through this decision. </p><p>First and foremost, you must ask yourself, if you ever loved your sons’ father or was it a situation to where you two got pregnant and stayed together for the child. It’s very common to stay with your partner when a child is involved regardless, if love is involved or not because “it’s the right thing to do.” Right? Well, not entirely.  Although, staying with your partner because you have a child together may seem right, in fact, it hurts the child in the long run. If you are not love with your partner, you will show distance, unhappiness, sadness, possibility of frequent arguments and cheating.  When a child grows up in the home and witnesses these types of emotions &amp; behaviors it is unhealthy as he/she will expect their own relationships to be such. As a responsible adult, you are supposed to be there to shape and model the future for your child. Just remember, what you do, your child will model. </p><p>Secondly, do not sell yourself short from love. Everyone deserves to be happy and to have someone to share their love and intimacy with. However, being in love with someone you have never seen before can be very risky. Honestly, that sounds like lust and the longing of love.  Humans have needs and when people are unhappy in their current relationship, they often seek out what they need.  If you decide to pursue the second relationship, I would suggest setting up an outing with a friend or two in order to get to know this person as there are a lot of scammers these days. </p><p>Finally, I am not convinced that this has anything to do with choosing between two guys.  This seems as if you are making a decision to end the relationship with your child’s father or not. You should ask yourself, if you were in love with your child’s father first off. If you were, you would have never sought after love.  I hope this was helpful for you and I hope I was able to shed a different light on your situation. Take care of yourself!</p>', 'condition': 'fear'}], [{'text': \"My boyfriend can't get over my promiscuous past. He says he loves me  but says the thought of my past is disgusting and a sexual distraction. He says he should have had more sex with different people. I don't know how to handle this.\", 'condition': 'sadness'}, {'text': '<p>I am sorry to hear of your relationship struggles. </p><p>One thing I wonder is did you volunteer the information about your past or is this something that he asked about?  In the future, it is probably best to leave details out of conversations like this.  I think it is common and natural for partners to ask about the sexual history.  For one thing, it is a good idea to be checked for STD’s before entering into a sexual relationship with someone, and it is fair to share that information with each other.  Partners usually want to know how many you have been with and what kind of sexual preferences you have or if there is anything you don’t like to do.  This gets into a gray area for some people.  I don’t necessarily want to know how many people my partner has been with and I certainly don’t want a whole lot of details.  Sometimes that is an image I just don’t want in my head about my partner.  Vague details are usually enough.</p><p>However, I understand that your partner has the details and is not happy with your past.  This is a reflection on him, not you.  This shows insecurities on his part.  You cannot control how he will react to information that you provide to him and you cannot control how he feels about the information.  The past should remain in the past and not be held against you in the present or future.   If he cannot handle your past then it is going to cloud your relationship.  You can offer couples counseling to him and see if he will go with you.  I have seen relationships recover from some very serious problems such as infidelity.  It takes two people who both want it to work to make it work though. </p><p>If your boyfriend cannot get over your past, you may have to let him go.  Don’t keep yourself tied to someone who is not right for you.  Constantly holding your past over your head and holding that against you is only going to bring you down and eventually you may start having insecurities or low self-esteem due to this type of treatment. I don’t see that you have done anything wrong.  If you aren’t cheating on him now and you answered his questions about your past honestly, how he handles that information is on him.  Ultimately, relationships have a tendency to come and go. Don’t fight to hold onto someone who is not right for you.  It is okay to be single and enjoy being the best you that you can be.  In time, the right person for you will enter your life.</p>', 'condition': 'fear'}], [{'text': \"What do I do if I have been feeling like I could never be with anyone because no one would want me. Or I couldn't have many friends because of who I am. It's strange I want to be loved but I'd hate to be because I always lose.\", 'condition': 'sadness'}, {'text': \"<p>I'm sorry you are feeling uncared for. I'm sure there are plenty of people that care and love for you that you are not taking into consideration. Sometimes when we get upset we may think irrationally and see the world as all or nothing. However, take a deep breath, relax and start focusing on the positive relationships you have with others, regardless of how small or insignificant they may seem. I think you will quickly realize there are people out there that care a great deal about you.</p><p>I also think it would help for you to surround yourself among people who you can identify with and share common interests with. Maybe you can attend a religious service, join an interest group (i.e. reading club, sports group, etc.) or start a group of your own. Most importantly, you need to tap into your interests and surround yourself with things that are beneficial for your own mental and physical health. From this, relationships will start to immerse. </p><p>You may also like to talk with a therapist regarding your feelings of being unloved. This is an unhealthy way to think of yourself and I think with a little help, you can see that you are more than deserving of a great relationship. </p><p>Thanks for reaching out and I wish you the best of luck moving forward.  </p>\", 'condition': 'fear'}], [{'text': \"What makes my step child, an 8 year old boy, choke my daughter, a 6 year old girl? This has been going on for 4 years. The boy tells my daughter not to tell on him. He knows it's wrong; we have did time out, spanking, taking away toys, and sitting on the wall. I am afraid for my daughters safety!\", 'condition': 'anger'}, {'text': \"<p>I can see why you are alarmed. That is a scary situation for a parent. Do you know if the child has been evaluated by a mental health professional? Early treatment is often the key. A professional will be able to help the child learn how to control their anger and mend the troublesome actions into more appropriate responses. </p><p>Have you addressed your concerns with the child's other parent? There could be contributing factors in his life that could be causing these issues (exposure to violence, sexual/physical abuse, drug use, stressful events in his life, etc.). It is important that these factors are identified so that they can either be eliminated and/or reduced. </p><p><span>I wouldn't hesitate to have him evaluated (if he hasn't been already) and to ensure that he is getting the help that he needs whether it be medication and/or therapy. Until then, I would make sure that he is always supervised under an adult's care.</span></p>\", 'condition': 'fear'}], [{'text': \"I have this weird fetish that I'm afraid to open up about it. What should I do?\", 'condition': 'fear'}, {'text': '<p>This is difficult to answer because you don’t tell us what the fetish is.  I do understand that this is something that is bothering you though. </p><p>The first thing to ask yourself is if this is something that is illegal or not.  If this is illegal to engage in, then you need to seek counseling help immediately to control the urges.</p><p>However, if your fetish is not something illegal and you just feel that it is something odd, a therapist could still help you deal with these feelings.  You may find that it is something very common and not something to be ashamed of.  You may find other people have the same interest as you.  Find a therapist that you can trust and tell them.  Don’t hold back with your therapist.  Trust me, they have heard and seen it all by now, and they can help you either stop the behavior that is causing you distress, or help you come to terms with accepting the behavior as part of who you are.  There is no need to suffer with this alone. </p>', 'condition': 'fear'}], [{'text': 'My coworkers are making false statements about me to the boss, saying I have mood swings. They have no proof to back it up. Can my employer make me see a therapist of their choice?', 'condition': 'sadness'}, {'text': \"<p>I can’t give you legal advice, but employers can suggest you see someone if your behavior is affecting your job. I believe most government agencies have an Employee Assistance Program (EAP) where employees can talk to a therapist about any issue, not just work-related, for free (up to a certain amount of sessions).</p><p>I’m wondering, though, why your coworkers would tell your boss this if it’s not true. Is it possible that you're not aware of how your interactions are affecting others? Maybe this “forced counseling” can be an opportunity for some introspection on your part.</p>\", 'condition': 'fear'}], [{'text': \"I'm in a state of depression right now. Who can I talk to? I've been sick in a lot of pain and crying. Don't know where to turn.\", 'condition': 'sadness'}, {'text': \"<p>First of all, if you’re sick and in pain, have you seen your doctor? If you have a chronic illness and pain, this can often lead to depression and is very common. You’ve taken the first step to dealing with it. You can talk to your doctor, even if your depression isn’t related to your health. He or she can either look at prescribing you an antidepressant or can refer you to a psychologist or psychiatrist.</p><p><span>If that’s not really an option for you, there are also helplines (local or national) or support groups where people dealing with similar issues can talk to each other. If you can't find any in your area (newspapers usually publish this information), there are online support groups as well. </span><br/></p>\", 'condition': 'fear'}], [{'text': \"My dad refuses to acknowledge my anxieties about going to parties, dinners, etc. Whenever I have an opinion it gets shut down. My mom and everyone else behaves likewise. For my father who heads a company, this is normal. He has to be right all the time. He blatantly refuses to even try to see it from my angle. \\r\\n\\r\\nRecently however, it's been getting to the point where I feel pressured and unable to speak my mind. It isn't possible for me to get professional one-on-one help. He tells me to grow a pair and get over it. I recently have been developing more severe body image and self-confidence issues, which I have had all my life. I feel invalidated by my dad.  I have been more paranoid lately as well. I can't turn on location services anymore on my phone because of a past incident. He makes me feel guilty about it.  I feel rather worthless more often than not, unfortunately.  What do I do?\", 'condition': 'sadness'}, {'text': \"<p>I'm sorry to hear that you are unable to get through to your parents. It sounds like you are experiencing a great deal of anxiety that needs to be addressed by a professional (despite the fact that you are unable to at the moment). I would recommend talking with another adult such as a  school counselor that can offer you support in this area. Perhaps they can work with you on your anxiety issues and schedule a meeting with your parents so that he/she may help mediate the conversation with them.</p><p>If you are unable to reach out to a school counselor maybe you can try a member of the family such as an aunt or an uncle that feels comfortable addressing the issue with your parents. Sometimes it helps hearing it from a third party before the situations is taken seriously enough.</p><p>Good luck!</p>\", 'condition': 'fear'}], [{'text': \"I'm a 40 year old male and having erection problems. Still have the desire for a woman. Awfully frustrated. Any suggestions? My Doc doesn't want to discuss it.\", 'condition': 'anger'}, {'text': '<p>Hi there, first off I have to commend you for reaching out. It takes a lot for a man to reach out for help when it comes to erection problems. Believe it or not, this problem is very common for men and women. </p><p>There are some things that you can try naturally, before resulting in medication, such as your eating habits and exercise. I would suggest taking a look at what you are consuming throughout the day. Do you consume a healthy diet and do you exercise regularly? How much caffeine and sugar do you intake daily?  These are just a few common things to look at. You would be surprised of how much pressure what we consume puts on our bodies. Our bodies are like a car. You have to maintenance it, in order for it to continue to run. </p><p><span>If you would like to get further natural advice and/or suggestions on eating healthy and exercising, I would recommend you see a nutritionist. A nutritionist specializes in maintaining a healthy diet. As far as your Doctor, I would recommend looking into getting another Doctor. I have never heard of a medical professional not wanting to talk about anything. That appears to be a personal issue on their part. I hope I was helpful and I wish you the best of luck!</span></p>', 'condition': 'fear'}], [{'text': \"My husband cheated on me and it hurt me very bad. It was a time when my health was poor. I'm have a hard time moving on.\", 'condition': 'anger'}, {'text': \"<p>How has your husband acted since then? Was he regretful? How did you find out? Did he confess? These are all things that you want to consider. Betrayal is very hard to get over so if it's taking you awhile to get over, know that this is normal.</p><p>Hopefully you're husband has been very regretful and upfront and honest with you since this happened. It may take awhile to reestablish your trust with him and he should understand this. </p><p>It's also very important to discuss WHY he cheated. You want to make sure that the reasoning behind this was not something that could arise again in the future. And if it can, there needs to be an action plan in place (i.e. being honest with how he's feeling) so that you both get a chance to rectify the situation.</p><p>If the cheating has happened more than once, you may want to reevaluate your reasoning for staying in the marriage. It would be obvious that he did not truly regret what he had done or else he wouldn't repeat the same mistake. However, if it was a single event and he has shown you and continuously shows you that he genuinely loves you and is sorry for his mistake, I would give it a try. People do make mistakes and sometimes it takes an event like this to realize what you have.</p><p>Know that it takes time and that you have the right to feel what you feel. If the relationship was a good, healthy relationship, it is worth saving. Ease back into it and be upfront with your feelings. In return, your husband should be patient and understanding of this. </p><p>Also, marriage counselors are often a good go-to as they have a great deal of experience working with marriages in similar situations. </p><p>Best of luck to you!</p>\", 'condition': 'fear'}], [{'text': \"I've been abused emotionally all of my life and for some reason I keep getting with men that I let emotionally abused me.\\r\\nHow can I stop it? I know the mistakes that I've made in my life. I'm having a really hard time getting back on my feet. Can you help me please?\", 'condition': 'sadness'}, {'text': '<p>I want to applaud you for taking this first step towards realizing that this is an issue and wanting to do something about it.  You are already on the road to a happier life with this realization.  A lot of women do not recognize that it may be something about them that continues to attract a man like this and will only blame it on the men for treating them that way.  Until you realize there is a problem you won’t start looking for a solution.</p><p>Don’t misunderstand me!  The abuse is not your fault! You are seeing a pattern, though, so this does need to be addressed. </p><p>First, go and buy the book “Boundaries: Where You End and I Begin” by Anne Katherine.  Read it.  This book describes many situations that are similar to yours, describes how a person came to be that way, and how to stop it.  You will have to learn to set good boundaries in your life and to maintain them.</p><p>Be single for a while.  Stay single until you feel like a whole, healthy, happy person on your own.  Often we get in a relationship because of a need.  If you feel like you need a person in your life to make you a whole person then you are in a relationship for the wrong reasons.  The first step is to work on whatever it is in you that makes you feel like you need another person in your life.  Identify those needs and then learn to fulfill them on your own.</p><p>I was doing a couples therapy session and the husband was being emotionally abusive to the wife.  This was a recurrent theme for her, like you are saying it is for you.  However, she had been doing a lot of work on her own and in private therapy, and this was a new relationship.  Obviously she still had not “gotten it right” because she did once again attract a man with these tendencies.  The difference this time was that she had done a lot of work on herself and had become a stronger person.  When she looked at him in our session and said to him “I don’t need you. I want you.  But not if you are going to continue to act like this.  So you leave the house and don’t come back until you are ready to make some changes.”  She stuck to that, too.  He didn’t leave for two more days because he kept telling her he would do different and begging to be allowed to stay.  She had drawn a boundary and stuck to it, and he left. She was fully prepared to be single again.  They actually did end up working things out in the end.</p><p>You can’t let someone stay and continue to treat you badly.  Sure, a marriage takes work and compromise on both sides.  Couples therapy can help you both learn to communicate in a healthier way with each other and can help you realize what areas in the relationship need work.  You may not realize how some of the things you say to him comes across, and he may not realize how what he says does to you.  A therapist can help you with this so that you both learn how your words can hurt. But you need to know your boundaries and be prepared to stick to them and not compromise your boundaries.  That means following through on the threat to leave when he continues to abuse you.  Someone can’t do that if they are too scared to be alone.  If they feel they need the other person in their life. </p><p>These patterns are developed in early childhood from what we learn from our parents.  When someone has grown up in a dysfunctional family, it is all they know.  Even when you can say that you realize it is a problem, you still don’t know how to stop it because you never learned any other way of interacting with people.  Something that took a lifetime to learn will take time and work to overcome.  Be patient with yourself and find a good therapist.  You can’t change your partner.  Work on you, and when you begin to heal and feel healthy, the right people will come into your life and stay.  The more you focus on trying to change the wrong ones to be what you want the more frustrated you will become.</p>', 'condition': 'fear'}], [{'text': \"I feel like I would be more comfortable as a girl even though I still like girls. I think I'm like a girl stuck in a guy body. I imagine myself as a girl too. I think this more because my friends say that if I was a girl I would be a hot looking one. And I don't care about having boobs or anything. I just feel like the way that I do act will make more sense if I was a girl.\", 'condition': 'fear'}, {'text': '<p>I understand that gender and/or sexual identity crises can be very difficult to navigate, although in today’s time I think we have made a lot of progress and it is becoming easier for individuals to find themselves and also find acceptance from society.</p><p>I am unsure how old you are.  If you are a child or teenager, this is a normal time to have identity questions and to be in a phase where you are trying to figure out who you are and what you want out of life.  I hope that you have understanding and supportive friends and family that you can talk to and who will support you in how you feel and what you may decide to do.  A lot of people, unfortunately, do not, and if this is the case then it makes it harder for you.  Because then you may not feel safe exploring these feelings and decisions.</p><p>I urge you not to try to make any permanent changes for quite some time.  By this I mean a sex change.  Anything permanent like surgery or hormone replacement to change your actual gender is something that does not need to be done lightly.  Please find a therapist that can help you explore your feelings and your identity crisis.  Of course there are things that you can do that are not permanent changes.  Many people decide to dress like their gender of choice.  Maybe experimenting in this way is something that you could do.</p><p>See if you have a local chapter of PFLAG in your area. PFLAG stands for Parents, Families and Friends of Lesbians and Gays.  They are able to help not only with those who identify as lesbian or gay, but also transgendered and asexual. </p><p>I wish you all the best in your identity crisis.  It would be very easy for you to sink into depression if you do not have good support and understanding from those around you during this time.  Find a professional that can help, especially if you experience depression or any thoughts of harming yourself.</p>', 'condition': 'fear'}], [{'text': \"I've have lived for sometime with depression but things have gotten a lot better, but why is it so hard to get over anxiety and social isolation?\", 'condition': 'sadness'}, {'text': '<p>The best way to handle depression and anxiety is with a combination of appropriate medication given to you by a medical doctor, and therapy to help you understand the thoughts, feelings, and behaviors that are causing the depression and anxiety in the first place and then to replace these with more positive thoughts and behaviors.  This is not something that anyone should just “white knuckle” and try to get through on their own with no help.  Cognitive Behavioral Therapy is a technique that has been proven helpful for depression and anxiety.  This takes a therapist trained in CBT. </p><p>There are some things in life that you cannot change and must learn to accept.  A lot of people spend time trying to change things that they have no control over.  This may be the behavior of someone else in your life or it could be a situation that you cannot change, such as the recent death of a loved one, a lost relationship, or an accident or illness which has left you handicapped.  In cases like this, what can change is your attitude and thoughts about the situation that you now find yourself in.  One thing that is inevitable about life is that stuff happens and it is not always pleasant. Some people take these unpleasant occurrences very hard and it throws them into a deep depression.  Other people seem to be able to handle life’s ups and downs and bounce back.  They do this with having positive coping skills in their life.  Learning new coping skills is something your therapist can help you with.</p><p>A lot of people are so focused on trying to change the things in their life that they cannot change and are ignoring the things that they can change.  There are things that you can do.  Here is a quote for you to consider.  “You are getting almost everything that you are getting based on the choices that you have made.  You will continue to get the same thing out of life until you make some changes.”  Another quote I like is “You will find a way or you will find an excuse.”  Don’t ever say that you have no choice.  Everyone has a choice.  You might not particularly like any of the choices that you are facing, but you do have choices.  Not happy in a relationship?  You can leave it.  Hate your job?  Get a new one.  If it matters to you, you will find a way.  Don’t sit there complaining about everything but not doing anything different or better.</p><p>Take care of yourself.  Exercise is very important not only for your physical health, but for your mental health as well.  Eating right and exercising will help you feel better about yourself.  Also, find a meditation that works for you.  There are progressive muscle relaxation exercises, visual and mental meditations, and many many more.  Start making some positive changes in your life today!  You can do it!</p>', 'condition': 'fear'}], [{'text': \"Hello, I have a cousin in my family who has been making me feel belittled, insecure, and frustrated during her stay here in the city. I know she comes from a place of love, but she has always been short-fused and highly temperamental if something doesn't work out the way she planned it. I have tried my best to coordinate plans with her, but she always ends up frustrated about the lack of communication I seem to have on my part and then makes condescending comments about my character that include: inconsiderate, negative, oblivious, and self consumed. \\r\\n\\r\\nI have tried to talk to her openly about this, but it always comes back as an attack on my character and I have never heard these comments from anyone else before. I have been thinking a lot about her comments and whether I truly am an inconsiderate person who is not thoughtful, spatially aware of surroundings/people, or positive, but in the end, I am feeling awfully hurt about how this has affected our relationship. \\r\\n\\r\\nWhat can I do?\", 'condition': 'sadness'}, {'text': \"<p>Do you have a close friend or relative who's opinion you trust? Ask them for their honest feedback and if they see you like your cousin does. If they don’t see these qualities in you, then it may be your cousin’s issue and she’s taking it out on you. You can always ask her what would be the best way to communicate plans with her so you know, specifically, what she is expecting. Then if you meet these expectations and she still blames you and comments on how inconsiderate you are, it's her issue and she is not coming from a place of love.</p><p>Even if you do resemble her comments, the way it sounds like she approaches this problem is not out of love. The fact that you're introspective enough to consider your own behavior suggests the problem is not with you. </p>\", 'condition': 'fear'}], [{'text': \"I have a child with my baby mother. She works I take care of our young son. She says she is not cheating I have not found anything but she always putting me down, telling me to get out and telling me she doesn't love me, but then the next day after our fight she says she does. I'm having a hard time because before our child she said she was raped by a family member but she never went to the hospital or the cops. Now me and my family don't talk. She's always telling me I'm annoying and just belittles me. Nothing I do is right.\\r\\n\\r\\nShe says I work you watch the baby. On her days off she never cooks or cleans. I have no friends or family and a couple months ago she was confiding to some guy, but says he's not any thing to her. What do I do? I don't want to leave.\", 'condition': 'sadness'}, {'text': \"<p>It sounds like you are in a tough situation. You have to ask yourself why you don't want to leave her. Is it because of the child? Or is it because you want the relationship to work? You must consider that being in an abusive relationship is not healthy for you or your child. So if the abuse continues, it would be more beneficial for you and your child to move out.</p><p>On the other hand, if you are just wanting the relationship to work out despite its current state, you need to evaluate whether the relationship is worth salvaging. It seems as though you are very unhappy and undervalued in this relationship. Although your question revealed just a short bit of information, I didn't read about any positives in the relationship. </p><p>Sometimes it's extremely hard to leave a relationship even though you know that the relationship itself is harmful for you. However, with time and focus you can do it. Each day will get a little easier and you have to trust yourself that you are making the right situation for you and your child.</p><p>However, if you really feel that you want to stay in the relationship, you have to be upfront with her. You need to tell her exactly how you feel and give her specific examples of how she is hurting you. This gives her a chance to render the situation. If after this there is no improvement, I suggest that you start reconsidering your decision to stay.</p><p>I also think it would be valuable for you to start engaging in things outside of the home that make you happy. Are there any hobbies you enjoy? Are there any groups in the area that you can join such as playgroups that will allow you to engage with other parents? Start looking into these options and finding an avenue for you to do something for your own benefit.</p><p>It is certainly not healthy for you to isolate yourself from friends and family. You need to have additional support networks besides the one with your girlfriend, especially since this has not been a healthy environment lately.</p><p>Thank you for reaching out. I wish you the best of luck with your relationship.</p>\", 'condition': 'fear'}], [{'text': 'Or how to send him somewhere that can help him, something like The Baker Act.', 'condition': 'fear'}, {'text': '<p>More information would be needed for me to accurately answer this question, such as your age, whether you live with your dad or not, and what other family members live in the household. </p><p>Something like this, alcoholism, is a whole family disease.  In other words, family members often unknowingly contribute to the alcoholism and enable the alcoholic to continue the destructive behavior.</p><p>First of all, you can’t make your dad do anything, and constantly nagging him or begging him to stop is just going to make him defensive and make this worse.  Nobody can change another person.  What you can do is change how you react to him and the things that you and other family members do for him. </p><p>Research codependency.  There’s a great book called Codependent No More.  There are a lot of articles on the internet that you can read.  In short, you have to stop enabling him.  Like I said, you cannot control him, but you can control yourself.  This means do not buy his alcohol.  Do not make it easy for him to get.  Don’t loan him the car keys or pay any household bills for him.  Don’t call in sick to work for him or make excuses for him in any way.  Do not bail him out of jail when he gets arrested. He needs to be responsible for himself. This may mean losing his job or losing his driver’s license. This may mean that he loses his family if he doesn’t stop. </p><p>What you and your family can do is set boundaries about what you will put up with.  It is his choice to drink, but it is your choice to put up with the behaviors of his drinking.  A lot of people go into rehab because their spouse said if they don’t then they are getting a divorce.</p><p>If you are an adult and you don’t live with your dad, then the best thing you can do for him is STOP doing things for him.  If you are a child who lives at home with him, then this could be a case for child protective services. In my state this is called DHS.  A report is made to this organization for child abuse or neglect.  Substance abuse in the home qualifies.  Of course, alcohol is legal and when consumed in moderation, there is no problems.  The problem will be the result of his alcohol consumption.  Does he drive with children in the car while intoxicated?  Is he left to care for minors while in an intoxicated state?  Are there any domestic violence issues due to his drinking?  This could be a reason for the authorities to step in.<span> </span></p><p>You can look for a local meeting for family members of alcoholics.  They are similar to the AA meetings that an alcoholic should go to, but are for the family members.  They can help you. </p>', 'condition': 'fear'}], [{'text': 'In particular during family gatherings (such as funerals), where there are different customs.', 'condition': 'fear'}, {'text': \"<p>I think the best thing you can do is be respectful of each family member's wishes. Although everyone may not agree with one another, the most important thing you can do for each other is to respect their faith and beliefs instead of trying to sway them in a certain direction. </p><p>There are many families that are united despite their differences. For example, a mother may be Catholic and the father Jewish. By introducing the children to each faith until they are ready to decide for themselves can be beneficial. </p><p>Also, it's not uncommon for views to change as one ages or faces different life experiences. So don't get too discouraged if your child wants to explore different avenues. </p><p>Creating a loving and accepting environment is most essential. </p>\", 'condition': 'fear'}], [{'text': \"I don't know what's wrong with me. At times I can be really happy, excited, I'll talk fast, and I want to do things. But lately I've been staying up way later and sleeping too much. I don't hang out with friends, I don't really have them. I feel nothing, worthless. I want to do nothing, I have no interest in anything. \\r\\n\\r\\nAll I usually do is stay in my room. I want to be happy, I want to be nice. What's wrong with me?\", 'condition': 'joy'}, {'text': \"<p>I'm sorry to hear that you are feeling as if you're in a slump. First of all, nothing is wrong with you. Many people report similar symptoms. Have you ever talked with a physician regarding your symptoms? Two extreme emotions such as feeling extremely happy and then feeling extremely low for a length of time may indicate a mood disorder. I think it would be best to talk with your doctor or a therapist to help pinpoint the issue causing them.</p><p>It's possible that it could just be certain stressors in your life that are causing the two extremities but you definitely want to rule out any mental health issues. If it is in fact mental health related there are many medications or therapy choices that can help. </p><p>Thanks for reaching out! I hope that you will feel back on track soon!</p>\", 'condition': 'fear'}], [{'text': \"I'm worried I should see a therapist due to past events and current mental status. I'm just so unsure of how to ask my doctor about seeing someone.\", 'condition': 'sadness'}, {'text': \"<p>Thanks for your question. I'm glad you realize that you need extra support and are being proactive. Simply explain to your doctor the feelings you have been experiencing and how you feel that speaking with a mental health therapist would be beneficial. However,  keep in mind that you do not have to go into detail about your personal feelings. You can simply state that you are feeling down, overwhelmed, stressed, or whatever it may be. </p><p>I'm sure your doctor will be glad to direct you from there. </p><p>Best of luck you you! I hope that you will be feeling better soon! </p>\", 'condition': 'fear'}], [{'text': 'I feel like my time is going too fast', 'condition': 'neutral'}, {'text': \"<p>Thank you for reaching out! That is a great question! As an American, I can truly say that I spend way too much time on the go! It is a proven fact that Americans live in a fast paced environment compared to Europe! I often ask myself, what if I only had one day left on this Earth? What would I do? Well, that is an easy question. I would spend it with my family! Easier said than done when we are living in a tomorrow kind of World, right? Its hard to focus on the now when we are so consumed in what tomorrow shall bring.</p><p>Time management is a very important factor when learning to &#34;live life to the fullest&#34;! In fact, this is a required course in undergraduate college now. Everyone manages their time differently and it is up to you to decide how you would like to do this. Personally, for myself I like to keep a calendar with a to-do list. I always place my most important tasks at the top of the list. That way, if I do not get through the list, I am not stressing over the little things. When planning your day, it is important you schedule work, eat and play. A much as it is hard not to work after getting off work, it must be done. There is discipline involved in this process. If you have trouble with this, then maybe seeking out some accountability such as including a coworker to make sure you do not bring work home once your shift is over or your spouse/partner reminding you that this is a time for play and not work.</p><p>These are just some ideas that I am throwing out there. Again, everyone has their own style on time management. I hope this was helpful for you. Please don't hesitate to reach out for anything further!</p>\", 'condition': 'neutral'}], [{'text': \"I'm worried I should see a therapist due to past events and current mental status. I'm just so unsure of how to ask my doctor about seeing someone.\", 'condition': 'sadness'}, {'text': '<p>Having this kind of conversation with a doctor can feel difficult.  But remember, you are the expert on you.  Any good medical professional will recognize that.</p><p>You are absolutely right to think about the importance of being your own health care advocate.  Generally, the best approach is simply to be honest.  Let your doctor know what you are concerned about and tell your doctor what you think might help.  If there is a specific issue that you’d like to address in counseling, let you doctor know about it.  And don’t hesitate to directly ask for a referral.</p><p>I know this may all feel a little overwhelming.  It might help to bring a family member or significant-other with you to provide support when you talk to your doctor.  It’s great that you’ve already taken this first step to reach out.  You’re on the right track.</p>', 'condition': 'fear'}], [{'text': \"My last relationships have ended horribly. They just up and abandoned me. One of them I have never gotten closure with over it, leaving me emotionally wrecked. I know something's wrong with me but I don't know how to even start trying to better myself.\\r\\nI get into these depressed like states whenever anyone I care about is too busy to be with me. I know that I shouldn't act like that because people are genuinely busy, but I feel like they're doing it just because they don't want to be around me.\", 'condition': 'sadness'}, {'text': '<p>Frequently when working with clients, I utilize the A-B-C model developed by Albert Ellis, the founder of Rational Emotive Behavior Theory. The theory basically states that you can not control an event but you can control your reaction to the emotions associated with said event. For instance here is an example:</p><ul><li><b>A (Action or Event)</b>: You need to talk to someone and that person is not calling you back.</li><li><b>B (Behavior or Response)</b>: You begin to tell yourself that this person is too busy for me or I am not important to this person.</li><li><b>C (Consequence)</b>: You feel depressed.</li></ul><p>If you look at the model, B has a direct effect on C. The thought is if you change your reaction to A, then C will have a better consequence, such as:</p><ul><li><b>A</b>: stays the same.</li><li><b>B (this is what you change)</b>: This person must be busy, they will call me back when they get a chance or I can call someone else to lean on for support until this person is available.</li><li><b>C</b>: Decreased feelings of depression &amp; overall functioning improves.</li></ul><p>This is just an example but if you actively work to replace the negative thought patterns that effect your behavior, studies show that your overall outlook and mood will improve. If this model resonates with you, I recommend &#34;Feeling better, getting better, staying better&#34; by Alber Ellis. In addition, looking for support groups in your area are a great source of support when you are feeling abandoned or alone.</p>', 'condition': 'fear'}], [{'text': \"I haven't uttered one word to my boyfriend in days. Now I'm over it and don't know how to approach the situation?\", 'condition': 'joy'}, {'text': \"<p>In any relationship, it is important to be able to say &#34;I'm sorry&#34; because it shows vulnerability and openness. I recommend that you sit and have a discussion with him now that you are calm about why you were upset and how you would like to handle such incidents in the future. If you find yourself becoming upset again, I encourage you to take a 20 minute break and then come back to the conversation once you are no longer heated. Studies show that talking or discussing arguments are more effective once you have cooled down and you are more likely to hear/understand what your partner is trying to convey.</p>\", 'condition': 'fear'}], [{'text': \"I've been with my boyfriend over 3 years. He cheated on me and the woman is now pregnant. He is physically and mentally abusive towards me. I have attempted to talk with him in order to resolve our issues; however, he never wants to talk and often blames me for everything.\\r\\nI’m always there when he needs my help. He tells me although I help him doesn’t mean that I am a good person. He always discredits me as a woman and it’s hurtful. I spend most day crying and feeling lonely. I am unhappy and unsure of what I need to do.\", 'condition': 'sadness'}, {'text': \"<p>That sounds like a very hurtful situation. Unfortunately, without a batterers intervention course or a desire to change, the abuse cycle is unlikely to stop. I do not recommend that you try to leave on your own due that being the most dangerous time when in an abusive relationship. As an abuser, his goal is to control you whether it's through mental or verbal means. I recommend that you contact a domestic violence shelter in your area. I have worked closely with Harbor House of Central Florida and know they provide housing, transportation, and any other needed resources to women leaving an abusive relationship. There is help out there and you are not alone. If you need any additional resources in your area, please don't hesitate to contact me. </p>\", 'condition': 'fear'}], [{'text': \"I started dating a guy I met online. He told me that he registered sex offender but he didn't do anything. He took a plea to always register as sex offender and he did two years. That was more than two decades ago. Nothing on his record since.\\r\\nI always believe the past should be left in past. But my roommates, their family and my son are unforgiving. Should I forgive this man that I'm falling in love with or should I dump him? If I stay with him I will never see my family and granddaughter again.\", 'condition': 'sadness'}, {'text': '<p>Thank you for your question. Trust is a huge thing in relationships and when that is broken, or perceived as being broken, it takes a long time to repair. From what you shared, it sounds like your boyfriend took steps to correct the situation and has shown to be trustworthy since. Unfortunately, no matter how much we apologize for something we did or for something others perceive we did, there will always be those with hardened hearts and will not forgive. If you feel confident in your relationship, then trust your inner wisdom. We cannot control others but only ourselves. Respect your families wishes to remain in unforgiveness while at the same time, ask them to respect your wish to believe in him and be in this relationship. Good luck to you.</p>', 'condition': 'fear'}], [{'text': \"About 3 years ago or so I was skinny, but I was still ugly. I really do want to change that but I've tried 3 times. Now can I try but don't stop. At school I get bullied about my weight and my ugliness and I have been bullied my whole life that I believe them.\\r\\nHow can I stop thinking about them and don't let it get in my head? My parents said I don't weight that much but, they do think I am fat but, they tell me I am not. I told my parents that I need to go to a therapist, but they think I am fine and I think they don't want to deal with it.\", 'condition': 'sadness'}, {'text': '<p>Hey!  I am so impressed with your efforts to ask questions, to figure out how to change the messages that you hear (and say to yourself), and to get support!  And it sounds like you want to make some changes in your life!  Take a walk over to the counseling office at school, the school nurse or consider reaching out to your Pediatrician’s office. You don’t have to have your parent’s permission to seek support for yourself!  And maybe taking control of your support network will give you the strength to make even bigger decisions about your health!  I am rooting for you!  Be Wise!</p>', 'condition': 'fear'}], [{'text': \"A few nights ago I talked to this girl I know about my self esteem issues for the first time. We talked for hours and she told me time and again that I was a great guy. She told me I was attractive, and have a great personality, etc. I really started to feel better about myself by the time I woke up the next morning.\\r\\nNow, though, I can't stop thinking about her, but I leave to go back to college in a few days and I go to school 4 hours away from her. So now I feel constantly depressed because even if I told her how I felt it wouldn't matter. I feel helpless and I don't know what to do.\", 'condition': 'sadness'}, {'text': '<p>Hey!  It takes a lot of courage to share your feelings with someone!  And it sounds like you have been lucky to meet someone who makes you feel safe enough to explore some of your more painful feelings.  A big part of the process, however, of strengthening your self-concept is learning how to tell yourself those positive messages that you heard from your friend!  Leaving for college may also be contributing to your feelings of unsteadiness.  Try this - Make a list of all of the positive things that you know are true about yourself.  Ask your friends and family to contribute to the list.  Then carry it with you in your wallet - and when you need a self-esteem boost, take a look at it!  You are in a season of life that presents lots of challenges and opportunities.  Reach out to your long-distance friend when you need support - and take a walk over to the campus counseling center and check out what they might have to offer.  Be Wise!</p>', 'condition': 'fear'}], [{'text': 'She cried because she lost all trust in me. Now I feel disgusting and like my heart just got stabbed, what do I do?', 'condition': 'sadness'}, {'text': '<p>Hey!  Sounds like the part of you that knows the RIGHT thing to do won here!  I am so proud of you for admitting that you lied to your Mom!  Sometimes lies come out of our mouths before we can even catch them because we are trying to say what the other person wants to hear.  I bet that, as you begin to show her that you are not going to lie any more, she will begin to gain trust in you again!  Be open with your feelings with you Mom - she is there to support you, guide you and love you!  Give her lots of hugs - and give yourself one too for being so brave!  Be Wise!</p>', 'condition': 'fear'}], [{'text': 'When having sex I think of other men and want other men all day long. Been married 3 years, together 14. What do you think?', 'condition': 'joy'}, {'text': \"<p>Sustaining passion in marriage is tough stuff. It's a relatively modern dilemma you are facing with perhaps unrealistic expectations of what marriage &#34;should&#34; be. It sounds like your definitions of love and sexual passion have merged together, that's both common and confusing! Intimacy and sexuality within your marriage are bound to ebb and flow. Resparking your passion will involve growing. Using your sexual drama and fantasies as windows into discovering your needs (security) and wants (desires). Marriage is a people growing process; you mature into one another and to achieve fulfillment your continued development will be required. </p>\", 'condition': 'fear'}], [{'text': 'We make love once per month. Is it normal?', 'condition': 'joy'}, {'text': '<p>To begin with, what\\'s normal for one couple isn\\'t going to be normal for the next, every couple has their own normal and that\\'s important to keep in mind. Your sexual lives will ebb and flow. What I\\'d be more curious about is the quality rather than the quantity of the sex you are having. I\\'d also want you both to refocus on building up your little daily moments of connection, I wrote a post about exactly that a while back and you can find it <a href=\"http://connectfulness.com/little-moments/\" target=\"\">here</a>. </p>', 'condition': 'fear'}], [{'text': \"In this argument my friends are all against me so I'm wondering if I'm exaggerating my feelings. I feel like I'm being attacked and that is making me blow things out of proportion and taking the role of the victim, when in reality I'm the one being unreasonable and I am simply annoying my reasonable friends. Or are they really being insensitive and not respecting me in our friendship?\", 'condition': 'fear'}, {'text': \"<p>Conflict is a tricky beast and shows up in <b>every</b> one of our relationships. What I'm reading is that you find yourself in a loop of  seeking validation of your thoughts and feelings from your friends rather than validating yourself. Am I right? If you aren't validating yourself, no one else will be able to either.  Try finding a small nugget of truth in the feedback your friends give you, this will help to lower your defenses and help your friends hear what you are really sharing.  And then if you are still feeling vulnerable, share that too... </p>\", 'condition': 'fear'}], [{'text': 'I am always down and out. Could this be postpartum depression?', 'condition': 'neutral'}, {'text': '<p>Probably.  I always tell the new parents I work with (and this is just as true for dads as it is for moms) that if you are feeling <i>off</i>, seek help.  Postpartum Support International (www.postpartum.net) is a great place to start finding resources and locating support. </p>', 'condition': 'neutral'}], [{'text': \"I am married to a beautiful lady. I love my wife with all my heart. We have 3 boys and I have a daughter from a previous marriage. We also have 3 grandchildren.\\r\\nNow this event is tearing us apart. I want our family to be together and happy. It was a mistake from so long ago. My wife wants to leave and I don't want that to happen I love her so much. Please help me save my marriage. Even my 3 boys want us to work it out. They love us both and want our family together. Please give me some advice or hope. Sincerely heart broken.\", 'condition': 'joy'}, {'text': '<p>If your wife is willing, seek out a qualified couples therapist! Look for one trained in the Gottman Method or Emotionally Focused Therapy. Your relationship is repairable, but you may need some qualified support in the process. </p>', 'condition': 'fear'}], [{'text': 'We do communicate but one of us has trouble accepting what the other person says. How can I fix things?', 'condition': 'fear'}, {'text': \"<p>Being able to accept your partner's influence is a key relationship skill. And it's very two sided.  Chances are if you don't feel your partner is being influenced by you, they likely don't feel you are being influenced by them either. The best <i>fix </i>you can practice is to soften yourself into your partner and see how much more open you can be to their influence.  Play with it. </p>\", 'condition': 'fear'}], [{'text': \"My wife and I are newly married, about 2 months. We've had some issues surrounding sex, particularly her lack of libido. She's on an anxiety medication, of which diminished libido is a side effect, but I think our issue is also partly one of a lack of intimacy/romance centered around my hectic schedule. Our sex life has suffered as a result.\\r\\nTonight she made a genuine effort to let me know she wanted sex, which is a big deal. Once things started, she had the most obviously fake orgasm I've ever encountered. I was honest with her about why, and told her that the most important thing to me in sex was knowing that she was legitimately enjoying it. She responded angrily with a complete denial of the faking. I don't know how to broach this subject and have an honest conversation. I think she will continue to lie to me about faking it which will cause our sex life to spiral further. Please help.\", 'condition': 'sadness'}, {'text': '<p>You are newly married, you Have a hectic schedule, your wife is on anti anxiety medication. What if you take the focus (hint: pressure) off of her orgasms and focus instead on connecting with one another. You know, like the gestures you each likely made while dating.  It turns out that these little moments of connection throughout our days are actually foreplay. Spend a few weeks making a real effort to focus on building up your little daily moments of connection, I wrote a post about this a while back, you can find it here: http://connectfulness.com/little-moments/ And have fun with it! </p>', 'condition': 'fear'}], [{'text': \"I'm always told I'm not good enough or trying hard enough. I put 100% in to every thing. I'm worn out, I've worked on all of my family relationships, I'm doing great in school, I'm kind to those in need and otherwise. I stick to my religious beliefs and leave room for mistakes and learn from others so I don't have to make as many and the ones I do I learn from. \\r\\nSomehow it's still not good enough and nothing I do works. Nothing has changed, and I feel hopeless. Any suggestions or ideas?\", 'condition': 'sadness'}, {'text': \"<p>Hello, and let me say first, what a great question! </p><p>There are so many people putting forth their 100% everyday and often times, do not get the credit they deserve. Without being able to fully understand where you're question is coming from, I think there are a couple of different ways to look at this question.</p><p>First, I think it's important for us to consider the message being sent by those in your life stating that you're &#34;not good enough.&#34; Is that ACTUALLY what they said, or is this just what you heard? Sometimes, because of our own self-doubts and fears, we skew and misinterpret the messages we receive from others. Again, listen to the message being sent and attempt to remain objective. Is the message being sent coming from a place of love or concern? If so, have an honest and open communication with that individual about what your concerns are regarding the amount of energy and time you're spending on being &#34;good enough.&#34; Explore with them how you feel you'r already giving your best.</p><p>If the person is unwilling to work at understanding this concern you have, then it may be time to explore the relationship. Some relationships we engage in can be toxic, especially if the other person is toxic. It may be they have their own &#34;stuff&#34; going on and they feel the need to constantly put others down to make themselves feel better. If you're in the direct path of this individual, then it serves to reason you will probably be in the direct fire, as well. Explore whether or not you want this relationship to continue in your life. If it's a relationship that MUST continue, then work on what you will do to distance yourself from their toxicity or their problems. Until they're willing to work on these issues for themselves, then it may be necessary to find an exit strategy, such as leaving the room or simply refusing to engage in the conversation. </p><p>Another perspective of this question is exploring the reason why it's important for YOU to satisfy the expectations of these other individuals? NO ONE will ever be 100% &#34;good enough&#34; for EVERYONE. Every single person has their own set of expectations in themselves and expectations in others. It would be impossible to satisfy all of those expectations for every single person in our lives. </p><p>The question becomes, what is it WITHIN you that feels the need to meet these expectations? There is most likely a part of you, yourself, as an individual that feels &#34;less than&#34; and feels as if you, yourself, are not good enough. It then becomes impossible to every feel &#34;good enough&#34; for others, because it's really YOU you're trying to feel good enough for. If you already feel as if you're doing everything you can do to be at your best version of yourself, then really work on LETTING GO of the rest. No one is perfect, and striving for perfection in our lives only creates more anxiety and stress. Find a middle ground in which you are happy with your accomplishments and your daily goals, and learn to let go of what's left. After all, tomorrow is a new day and you can work on more of your goals tomorrow!</p><p>I recommend doing this by finding a mantra, a statement or phrase you can repeat to yourself anytime you start to feel that sense of stress and pressure from striving for perfection. The mantra can remind you to let go of this expectation you have for yourself or that others have for you so you can also let go of the stress and anxiety surrounding the expectation. I leave you with one of my favorite quotes that perhaps you can use as your mantra, &#34;No one can make you feel inferior without your consent. &#34; - Eleanor Roosevelt. </p>\", 'condition': 'fear'}], [{'text': \"I'm always told I'm not good enough or trying hard enough. I put 100% in to every thing. I'm worn out, I've worked on all of my family relationships, I'm doing great in school, I'm kind to those in need and otherwise. I stick to my religious beliefs and leave room for mistakes and learn from others so I don't have to make as many and the ones I do I learn from. \\r\\nSomehow it's still not good enough and nothing I do works. Nothing has changed, and I feel hopeless. Any suggestions or ideas?\", 'condition': 'sadness'}, {'text': \"<p>The feeling of never feeling good enough usually stems from our early relationship with our parents or significant role models who made us to feel we were never good enough to meet their standards. In the healing process, you'll need to work on discovering the root source of where these thoughts and feelings come from and then learn to accept yourself just as you are unconditionally. I'd be pleased to help you in this process. I provide online private counseling through proventherapy.com. </p><p>Dr. Rachelle Vaughan<br/></p>\", 'condition': 'fear'}], [{'text': \"He's been losing feelings and he doesn't know why. I love him very very much. He sometimes thinks I'm obsessed when I'm not at all. I give him his space and I make sure he's okay but  sometimes I think if me and him saw each other more it would be better?\\r\\nI truly want me and him to get better, it's kind of hard not to stress about it, because the love of my life is losing feelings which is a sad feeling. He's a great guy! I just don't know why he's been losing feelings towards me. He's starting to put less effort in talking to me.\\r\\nAt this point I'll do anything to just make us better as a couple. I tried talking to him but he doesn't like talking about it much. Advice on what to do?\", 'condition': 'sadness'}, {'text': \"<p>I'm willing to bet that this isn't what you are hoping to hear, but I'd suggest giving him space. Ooph, that's a tough one, right?! I know. But here's the thing, when you keep trying to process and talk it out with him you keep pushing him away. He needs to feel like a solid and whole person (as you do too) to be able to be fully in your relationship. It's the work of being in relationship to learn this. I get that this is tough stuff. I wonder, outside of being with him, how do you soothe and calm yourself? That's the stuff for you to tune into and focus on right now.</p>\", 'condition': 'fear'}], [{'text': \"I want a secure relationship with someone that wants to be with me and who will actually put effort into it.\\r\\nI seem to gravitate toward unavailable men and those that want intimacy and no relationship. I let men dictate and control me because they accuse me of being controlling. I let men emotionally abuse me and I am at their beck and call.\\r\\nI am not comfortable being alone or doing anything by myself. I feel I need the security of someone being around just to survive. I know what I'm doing wrong and I do it anyway just hoping things will change. How do I stop this behavior and thought process?\", 'condition': 'joy'}, {'text': '<p>You may be interested in reading my most recent post, <a href=\"http://connectfulness.com/intimacy-begins-with-you/\" target=\"\">Intimacy Begins With You</a>. In it I offer 7 expert tips to help you get started on a path of self connection and discovery. This is important stuff to do in order to work through that stuff that\\'s holding you back from the relationships you desire. You may find that it\\'s especially helpful to do this work with the alliance of a skilled individual therapist. </p>', 'condition': 'fear'}], [{'text': \"I regret ever hurting her and they mean the world to me. But it feels like nothing I do seem to work.\\r\\nI'll always love them no matter what and when I'm with them nothing else matters. I love them more then anything. I don't want another guy raising my kids.\", 'condition': 'joy'}, {'text': \"<p>How you you expressed your regret and taken responsibility for the pain thus far? Repair is a very essential skill in and part of developing healthy relationships. Your love sounds deep, sit with that. Also sit with how she's been hurt. You get to feel your hurt too and your kids. In feeling all this you may also find our way to the repair. If feeling all this is tough to take on, seek out a local therapist to support your process. </p>\", 'condition': 'fear'}], [{'text': 'I have dog obsession disorder and I am having problems with my girlfriend because I am placing more importance to my two dogs over her. How do I get over this problem and prioritize my girlfriend over my two dogs?', 'condition': 'fear'}, {'text': \"<p>Hey, dogs are cool. They adore pleasing humans and often LOVE to work on learning what you want and expect from them. Your girlfriend on the other hand, likely has her own desires and needs that she attend to before tuning into yours. You are good with dogs, that tells me that you've spent some time observing their behavior. The first step in working through this issue would be similar, start to tune into and observe your girlfriend more often... Observation is a skill when it comes to relationship building. The skills you have mastered in relating with your dogs can carry over, you will just have to relearn what behaviors you are watching. And keep in mind that also means observing yourself in relationships. </p>\", 'condition': 'fear'}], [{'text': 'I find myself lying about small everyday things that there is really no need to lie about. How do I figure out what triggers me to do this? And how do I help overcome this problem? I would like to become more honest and open no matter the situation.', 'condition': 'fear'}, {'text': \"<p>Well let's start with the awesome realization you've already had, you want to notice that you have triggers. That's huge. Really. </p><p>I find that when people lie, it's most often as a defense mechanism. Which is likely a flag that something doesn't feel safe. What exactly doesn't feel safe could be lots of different things but the key to notice is that it's that feeling of insecurity that is very likely triggering you. </p><p>It could really help to explore this with therapist, perhaps even someone with a trauma specialty -- that's not to say this is related to a trauma but more so to suggest that therapists specializing in trauma are very skilled at helping to identify and assist in repatterning your triggers! </p>\", 'condition': 'fear'}], [{'text': \"I've been like this ever since I was in school; back then I transferred to another school. Now I'm thinking about changing my job.\", 'condition': 'fear'}, {'text': \"<p>I recommend that you make a list of all the reasons you should change your life and all of the reasons you shouldn't change your life. Can the problem you are in be fixed? Is there others you can lean on for support? Are there other people you know who have been through a similar experience and are willing to share their story with you? It is important to rely on your support network to help you get multiple points of view. If you believe you need additional help, I suggest seeing a professional.</p>\", 'condition': 'fear'}], [{'text': 'I keep hearing I am attractive from people around me, and I think I believe it. But I have low confidence regarding approaching girls I like.', 'condition': 'joy'}, {'text': \"<p>I recommend that you focus on the negative thoughts or irrational beliefs that are going through your mind at the time in which you are trying to approach a girl. When you are aware of the negative thoughts or irrational beliefs, you can then work on changing them. An easy way to recognize an irrational belief is a thought that contains the words &#34;must or never.&#34; Once you recognize the thought or belief, I would like you to picture a big red stop sign. This is called thought stopping. This is a technique to use to stop unwanted or unhealthy thoughts. Then, I would like you to think of a more positive thought to replace it with such as: Negative thought: &#34;That girl will never go out with me&#34; STOP Positive thought: &#34;I won't know if she will go out with me unless I ask&#34;. What this does is increase your self confidence by replacing your negative thoughts with positive ones that will ultimately boost your self esteem.</p>\", 'condition': 'fear'}], [{'text': 'We have been fighting a lot and have 3 kids but we both want to stay together. I need some help to save our family.', 'condition': 'sadness'}, {'text': '<p>Hello, I do not live in the California area. However, perhaps I could make some suggestions as to where you might look for free counseling. First, I must mention that most insurances now cover for many different types of issues, including family issues. If your girlfriend lives with you, most insurances now cover &#34;live-in partners,&#34; as well. If you have insurance, contact your policy provider and ask whether or not couples counseling is included.</p><p>Aside from insurance, the next place that comes to mind is a religious affiliation. Do you belong to a church or other religious organization? Many of the pastors or leaders in these disciplines have significant training in counseling, as well as assisting with marriage and couples counseling. These services are ordinarily offered free of charge to members.</p><p>Another option might be to explore support groups within the area. There may be a group in the form of a couples support group that brings couples together to explore their relationships in the safety of the group. If you find there are no such groups in your area, there are anonymous, support groups online. Here is one such site: http://relationship.supportgroups.com/ </p>', 'condition': 'fear'}], [{'text': \"I'm currently dating someone else and I really like him. But I love and miss my ex so much. What do I do?\", 'condition': 'joy'}, {'text': \"<p>Finding the right person is a tricky thing to do. Why did you and your ex break up 3 months ago? In relationships with others you get to see a reflection of yourself.  Sometimes you may enjoy that reflection, other times it may not feel so good. I'm not sure where you are in your life and relationships and what you do from here depends on what you desire more of in your life. But I'm not simply talking in the moment desire, I'm referring to the direction you want your life to go. If one of these guys was to support you...who would help you reach your dreams? And who would you enjoy spending time with? It's complicated and no one can answer the 'what to do' question but you.  Slow down. Tune into your heart. Listen.  </p>\", 'condition': 'fear'}], [{'text': 'I feel like I have to be promiscuous in order to keep people around? It started after I got raped by my ex-boyfriend.', 'condition': 'neutral'}, {'text': '<p>I recommend that you seek professional services to address the trauma you experienced. EMDR has been proven to be very effective in treating trauma. In addition, a support group might be helpful to find a more stable support network. Either a support group for victims of rape or sex/love addiction <a href=\"http://www.sa.org\">www.sa.org</a> sound appropriate. Whichever group resonates the most with you will be the most helpful. </p><p>If you have any additional questions or concerns, please feel free to ask.</p>', 'condition': 'neutral'}], [{'text': \"We kissed and he grabbed my boobs and we exchanged some texts and a few calls. It went on for about 8 months. Just when we were all together and our spouses were out of the room. Once I met him for lunch to tell him that we needed to stop. We ended up kissing after lunch and then I sent him a few more texts that day telling him I was serious and that was the end of it. His wife (my good friend) saw us kiss once and told my husband. I told him a couple of things then and we got over it.\\r\\nA year later she told him a couple of other things. Same story. It's been about 3 years since. They are now divorced and my husband and I have been happy. A few weeks ago the wife called me and said that her now ex told her more stuff we did. I decided to just tell my husband everything. We are trying to work things out. But he is having a really hard time believing that he knows all of it. How can I help him believe me?\", 'condition': 'sadness'}, {'text': '<p>The issue at hand here is that you\\'re betrayal broke his trust. In order to repair your relationship you will both need to <span style=\"color: rgba(26, 26, 26, 0.701961);float: none;background-color: rgb(255, 255, 255);\">confront the infidelity. And both of you will need to honor yourselves by communicating your feelings and ensuring that those feelings are heard and validated. It would be really helpful to do this work with a Gottman or Emotionally Focused Couples Therapist. Gottman\\'s The Science of Trust and What Makes Love Last would both be helpful reference books to guide you along. </span></p>', 'condition': 'fear'}], [{'text': \"Cheating is something unacceptable for me but because we have two daughters I decided not to break up the family.\\r\\nHowever, now I am struggling to forget and forgive what happened. I feel like I cannot trust him. Without trust, I cannot stay in this relationship. On the other hand, I do not want my children to get hurt. I'm not sure how to move forward?\", 'condition': 'anger'}, {'text': \"<p>Let's just start with acknowledging that trust is huge and betrayal hurts. You're entitled to your feelings; all of them and you need to know that your husband understands you. That said some ways are more effective at rebuilding and repairing relationships that others. I am a big fan of The Gottman Method for couples therapy, especially following infedienity. You can read about this approach in Gottman's books: &#34;The Science of Trust&#34; and &#34;Making Love Last&#34; and/or you can seek a Gottman Certified couples therapist here: https://www.gottman.com/private-therapy/ </p>\", 'condition': 'fear'}], [{'text': \"I feel that I need to end my present relationship. He lives three hours away and likes the reassurance of having someone to talk to multiple times per day and seeing me once or twice a month.  I want someone who is more present and more of a life companion.\\r\\nLately, he has had a very busy work schedule and I have only seen him a few times in the last 6 weeks. I told him that I can't continue in this way because I constantly feel frustrated and angry and that he is not making the relationship enough of a priority. I also feel it is keeping me from possibly finding the relationship I want.\\r\\nWe have been together 7 years. The problem is that I panic and experience anxiety and depression thinking of him with someone else and then thinking I will never meet someone I like. We have gone through this cycle already 4-5 times and I feel it is unhealthy to stay in it, but my aversion to the anxiety and depression I experience upon separation always leads me to reconcile.\", 'condition': 'anger'}, {'text': \"<p>Sounds like your panic is less about loosing the relationship you are in (which by the way doesn't sound like it's meeting YOUR need for connection) and more about being alone. Being with him is serving you, even if the relationship is less than ideal, from being alone. Being alone can be scary. You'd have to face yourself. You'd have to learn to love and care for and cherish yourself. All important skills and tasks in maturing and growing up, but scary none the less. What if...What if you gave yourself permission to be in a relationship with YOU?</p>\", 'condition': 'fear'}], [{'text': 'He goes out with her to dinner/brunch/movies when we are not together (we live 2 hours apart).', 'condition': 'neutral'}, {'text': \"<p>Would you have the same desire to meet this friend if she were a he? If you are concerned that their friendship is a substitute for you when you aren't present, <u>talk to him</u>. It sounds like you are concerned that he is building an emotional intimacy with her and spending time doing the sort of things with her that you'd otherwise be doing with him. Help him understand why this bothers you but try to also be open to allowing him to make friends. Is the issue that he hasn't introduced you? Is there another reason you don't trust their friendship? </p>\", 'condition': 'neutral'}], [{'text': \"What do I do if I have been feeling like I could never be with anyone because no one would want me. Or I couldn't have many friends because of who I am. It's strange I want to be loved but I'd hate to be because I always lose.\", 'condition': 'sadness'}, {'text': '<p>What would make you feel no one wants to be with you?</p>', 'condition': 'fear'}], [{'text': \"I'm in a relationship, but I feel like I'm always putting more into it and not getting reciprocated. My ex told me that I will never find anyone else, and that's lingering in the back of my mind.\", 'condition': 'sadness'}, {'text': \"<p>The most crucial key to any relationship is that mutual feeling you hold between you both: that you matter.  Sounds like you are stuck in a cycle of hearing your ex say you don't matter. That's why it didn't work with him btw. He wasn't reflecting to you that you mattered. However it ended, clearly though that's the sentiment that's lingering with you.  So here you are hanging around a new man why is telling you the same message. Move on. You aren't unworthy, you just haven't found a man who is worthy of you! </p><p>To be worthy of you, he must see your worth. Often though before anyone else can see your worth, you have to believe it.  </p>\", 'condition': 'fear'}], [{'text': 'This is preventing me from getting a job. I have bad relationship with my bipolar mother. I am living with her but it stresses me out so much to be around her that I have locked myself in my room. I have no friends or other family to help me. I have no money for therapy, but I think I need therapy before I can secure a job.', 'condition': 'fear'}, {'text': '<p>A good first step would be to make an appointment with your primary care provider &amp; discuss your concerns.  They would have resources available to help in your particular situation.</p>', 'condition': 'fear'}], [{'text': \"I have no self control over food. Most people stop when they've had enough, but I keep eating for the pleasure of it. Especially with sweets - I'm never done eating dessert.\", 'condition': 'fear'}, {'text': \"<p>Hello! I'm so glad you decided to write in today. This is such a great question and I'm sure many others will relate to exactly what you're describing. There are a few different ways we can look at in understanding your concern. </p><p>First, I think it's important to understand food is just food. Food is meant to nourish our bodies, provide us with energy and yes, sometimes reserved for special occasions and celebrations. But in many cultures, we place a LOT of emphasis on food. We have food at every gathering and every celebration. What's more people have come to almost EXPECT food to be present at any and every get-together. And if it's not? Well, then forget about it! </p><p>I see this time and time again with my clients. Donuts appear in the office, and it's almost like donuts have never been there before! <i>Must eat one (or two)!</i> However, we need to remind ourselves that this occurrence, or similar ones, will not be the last time we can enjoy this particular food. It is likely the office donuts have happened before, and they will be there again on another day. During these moments, I like to have my clients employ a Stop-and-Think method. Stop-and-Think about your goals before you eat. Is this donut getting you where you want to be? Also, I have my clients ask themselves how special is this donut? If the donut really is a special donut (from the best bakery in town and you've never been there before) then now might be a time to have the donut. But if not, it would be wise to pass and wait until that &#34;special&#34; donut. </p><p>Another aspect we need to remember about food, is to think about what we're getting from overindulging or overeating. Are you trying to drown out other emotions? Are you trying to feel better and the food gives you that feeling for a brief moment? What ELSE is going on? This can be determined by utilizing what we describe as a Thought Record. A Thought Record involves tracking and identifying thoughts and feelings associated with food triggers. By targeting the emotions, we can then determine where they're coming from, as well as how to decipher them. A therapist can also help you with understanding your emotions related to food and will be helpful in assisting you with the Thought Record.</p><p>The most important thing to remember is that &#34;food addiction&#34; can be a real problem for a lot of people. If food is taking over your life and you are preoccupied and overwhelmed with knowing where to start, please seek out help. Binge eating is the most common eating disorder and impacts the lives of thousands. </p><p>There are lots of free resources and information on my website at www.maddenwellnessky.com. In addition, I offer individual coaching and counseling through my website and I would love to help!</p><p>- Amber</p>\", 'condition': 'fear'}], [{'text': \"I have no self control over food. Most people stop when they've had enough, but I keep eating for the pleasure of it. Especially with sweets - I'm never done eating dessert.\", 'condition': 'fear'}, {'text': '<p>I would recommend removing yourself from the environment you are in after you have finished eating. A simple walk around the block, calling up a friend and going to visit, or even going to another room in the house can help. If you find that you truly have no self control over food, I recommend attending Overeaters Anonymous; a 12 step group for those with compulsive issues related to food. I hope this helps. </p>', 'condition': 'fear'}], [{'text': \"I know someone who is extremely sensitive to stress and very sensitive to a negative tone of voice. Sometimes during a disagreement he tells me that my communication is having a harmful impact on him. Once he believes I am being negative I can't seem to find a better way of communicating. In fact, it is often a self fulling prophesy because his accusatory manner becomes unbearably frustrating. \\r\\n\\r\\nWhat advice might you offer?\", 'condition': 'sadness'}, {'text': \"<p>With any type of criticism, it is usually best to introduce the topic at a neutral time, ie: when both of you are relaxed, with no current stressors involved, having fun, etc.  </p><p>Begin with a non-judgmental reflective comment about a recent bothersome event, as if it were just then crossing your mind (therefore not something you've been consumed with ruminating over - eases the impulse for him to dive straight into defense mode).</p><p><br/></p><p>Then share how you felt at the time of the event.  Just say when.... I felt kind of hurt / shocked (or whatever the feeling was).  PERIOD.  THATS ALL YOU SHOULD SAY.  Wait for him to respond to your matter-of-fact statement.</p><p>No matter what his response is, stick to your same message - don't get overwhelmed by trying to rephrase or explain your view as that will likely set you up for continued arguing.  You can even add, &#34;I agree I could have misunderstood  it (event).... I just know it made me feel uneasy.&#34;</p><p>Here you give him little wiggle room for a debate.</p><p>Good luck &amp; I'd love to hear how it goes!</p>\", 'condition': 'fear'}], [{'text': 'When I ask him who he is talking to, he tells me no one. But, it sounds like he is holding a conversation with someone. I have even accused him of having a secret cell phone. I ask so much, I feel like I am losing it.  Is he trying to make me question my sanity, or is he talking to himself?', 'condition': 'sadness'}, {'text': '<p>A rare topic &amp; likely extremely troublesome for you... I would need to have more background information on the two of you before <span style=\"font-size: 14px; line-height: 1.42857;\">beginning to offer any insight. Feel free to email me.</span></p><p>I would also like to add that aside from the reality of whether or not these conversations are actually occurring, as your partner, he should be just as concerned about something that is disturbing you to this level. &nbsp;Partners need each others\\' trust and support, no matter who is right or wrong.</p>', 'condition': 'fear'}]]\n"
          ]
        }
      ]
    }
  ]
}